{
 "cells": [
  {
   "cell_type": "markdown",
   "metadata": {},
   "source": [
    "# Turtle graphics in Jupyter Labs\n",
    "\n",
    "## Installation\n",
    "\n",
    "```\n",
    "jupyter labextension install @jupyter-widgets/jupyterlab-manager ipycanvas\n",
    "pip install ipycanvas\n",
    "\n",
    "```\n",
    "\n",
    "The idea is to implement a turtle graphics implementation, ideally compatible to PyTurtle."
   ]
  },
  {
   "cell_type": "code",
   "execution_count": 2,
   "metadata": {},
   "outputs": [
    {
     "ename": "ModuleNotFoundError",
     "evalue": "No module named 'ipycanvas'",
     "output_type": "error",
     "traceback": [
      "\u001b[0;31m-------------------------------------------------------------------------\u001b[0m",
      "\u001b[0;31mModuleNotFoundError\u001b[0m                     Traceback (most recent call last)",
      "\u001b[0;32m<ipython-input-2-b49a31c78267>\u001b[0m in \u001b[0;36m<module>\u001b[0;34m\u001b[0m\n\u001b[0;32m----> 1\u001b[0;31m \u001b[0;32mfrom\u001b[0m \u001b[0mipycanvas\u001b[0m \u001b[0;32mimport\u001b[0m \u001b[0mCanvas\u001b[0m\u001b[0;34m\u001b[0m\u001b[0;34m\u001b[0m\u001b[0m\n\u001b[0m",
      "\u001b[0;31mModuleNotFoundError\u001b[0m: No module named 'ipycanvas'"
     ]
    }
   ],
   "source": [
    "from ipycanvas import Canvas"
   ]
  },
  {
   "cell_type": "markdown",
   "metadata": {},
   "source": [
    "## The Turtle Module\n",
    "\n",
    "This will eventually be externalized into a proper Python module.\n",
    "\n",
    "For now, please use the code as documentation. It should mostly be self-explanatory. There are two ways to actually draw a Turtle image. When ```turtle.image()``` is used, the current state of the turtle image is drawn, future turtle commands will not change it any more. When ```turtle.widget()``` is used, a dynamic widget is created that is automatically updated, whenever new commands are issued."
   ]
  },
  {
   "cell_type": "code",
   "execution_count": 2,
   "metadata": {},
   "outputs": [],
   "source": [
    "import math\n",
    "import numpy\n",
    "from matplotlib.image import imread\n",
    "\n",
    "class Turtle:\n",
    "    canvas = None\n",
    "    pyturtle = True\n",
    "    width = 0\n",
    "    height = 0\n",
    "    pen = False\n",
    "    _color = '#000000'\n",
    "    direction = 0\n",
    "    x = 0.0\n",
    "    y = 0.0\n",
    "    turtle_img = None\n",
    "    _commands = []\n",
    "    _buffers = []\n",
    "    def __init__(self, width, height, pyturtle=True):\n",
    "        self.width = width\n",
    "        self.height = height\n",
    "        self.canvas = Canvas(size=(width, height))\n",
    "        self.canvas.caching = True\n",
    "        self.turtle_img = imread('turtle.png')\n",
    "        self.turtle_img = (self.turtle_img * 255).astype(numpy.uint8)\n",
    "    def draw(self):\n",
    "        self._commands.extend(self.canvas._commands_cache)\n",
    "        self._buffers.extend(self.canvas._buffers_cache)\n",
    "        self.canvas.flush()\n",
    "        self.canvas.clear()\n",
    "        self.canvas.caching = True\n",
    "        self.canvas._commands_cache = self._commands\n",
    "        self.canvas._buffers_cache = self._buffers\n",
    "        self.canvas.flush()\n",
    "        self.canvas.save()\n",
    "        self.canvas.begin_path()\n",
    "        self.canvas.translate(self.x, self.y)\n",
    "        self.canvas.rotate(self.deg2rad(self.direction + 90))\n",
    "        self.canvas.put_image_data(self.turtle_img, - 8, - 8)\n",
    "        self.canvas.restore()\n",
    "        self.canvas.caching = True\n",
    "    def widget(self):\n",
    "        return self.canvas\n",
    "    def image(self):\n",
    "        res = Canvas(size=(self.width, self.height))\n",
    "        res.caching = True\n",
    "        res._commands_cache = self._commands\n",
    "        res._buffers_cache = self._buffers\n",
    "        res.flush()\n",
    "        res.save()\n",
    "        res.begin_path()\n",
    "        res.translate(self.x, self.y)\n",
    "        res.rotate(self.deg2rad(self.direction + 90))\n",
    "        res.put_image_data(self.turtle_img, - 8, - 8)\n",
    "        res.restore()\n",
    "        return res\n",
    "    def pen_down(self):\n",
    "        self.pen = True\n",
    "    def pen_up(self):\n",
    "        self.pen = False\n",
    "    def pen_toggle(self):\n",
    "        self.pen = not self.pen\n",
    "    def color(self, col):\n",
    "        self._color = col\n",
    "    def goto(self, x, y):\n",
    "        self.x = x\n",
    "        self.y = y\n",
    "        self.canvas.move_to(x,y)\n",
    "    def left(self, deg):\n",
    "        self.direction -= deg\n",
    "    def right(self, deg):\n",
    "        self.direction += deg\n",
    "    def deg2rad(self, deg):\n",
    "        return deg / 360 * 2 * math.pi\n",
    "    def rad2deg(self, rad):\n",
    "        return rad / (2 * math.pi) * 360\n",
    "    def forward(self, steps):\n",
    "        old_x = self.x\n",
    "        old_y = self.y\n",
    "        self.x = self.x + steps * math.cos(self.deg2rad(self.direction))\n",
    "        self.y = self.y + steps * math.sin(self.deg2rad(self.direction))\n",
    "        if self.pen:\n",
    "            self.canvas.begin_path()\n",
    "            self.canvas.stroke_style = self._color\n",
    "            self.canvas.move_to(old_x,old_y)\n",
    "            self.canvas.line_to(self.x, self.y)\n",
    "            self.canvas.stroke()\n",
    "            self.draw()"
   ]
  },
  {
   "cell_type": "code",
   "execution_count": 1,
   "metadata": {},
   "outputs": [
    {
     "ename": "NameError",
     "evalue": "name 'Turtle' is not defined",
     "output_type": "error",
     "traceback": [
      "\u001b[0;31m-------------------------------------------------------------------------\u001b[0m",
      "\u001b[0;31mNameError\u001b[0m                               Traceback (most recent call last)",
      "\u001b[0;32m<ipython-input-1-75ce92d33346>\u001b[0m in \u001b[0;36m<module>\u001b[0;34m\u001b[0m\n\u001b[0;32m----> 1\u001b[0;31m \u001b[0mti\u001b[0m \u001b[0;34m=\u001b[0m \u001b[0mTurtle\u001b[0m\u001b[0;34m(\u001b[0m\u001b[0;36m400\u001b[0m\u001b[0;34m,\u001b[0m \u001b[0;36m400\u001b[0m\u001b[0;34m)\u001b[0m\u001b[0;34m\u001b[0m\u001b[0;34m\u001b[0m\u001b[0m\n\u001b[0m\u001b[1;32m      2\u001b[0m \u001b[0mti\u001b[0m\u001b[0;34m.\u001b[0m\u001b[0mgoto\u001b[0m\u001b[0;34m(\u001b[0m\u001b[0;36m0\u001b[0m\u001b[0;34m,\u001b[0m \u001b[0;36m400\u001b[0m\u001b[0;34m)\u001b[0m\u001b[0;34m\u001b[0m\u001b[0;34m\u001b[0m\u001b[0m\n\u001b[1;32m      3\u001b[0m \u001b[0mti\u001b[0m\u001b[0;34m.\u001b[0m\u001b[0mpen_down\u001b[0m\u001b[0;34m(\u001b[0m\u001b[0;34m)\u001b[0m\u001b[0;34m\u001b[0m\u001b[0;34m\u001b[0m\u001b[0m\n\u001b[1;32m      4\u001b[0m \u001b[0mti\u001b[0m\u001b[0;34m.\u001b[0m\u001b[0mcolor\u001b[0m\u001b[0;34m(\u001b[0m\u001b[0;34m'#ff0000'\u001b[0m\u001b[0;34m)\u001b[0m\u001b[0;34m\u001b[0m\u001b[0;34m\u001b[0m\u001b[0m\n\u001b[1;32m      5\u001b[0m \u001b[0;32mfor\u001b[0m \u001b[0mi\u001b[0m \u001b[0;32min\u001b[0m \u001b[0mrange\u001b[0m\u001b[0;34m(\u001b[0m\u001b[0;36m80\u001b[0m\u001b[0;34m)\u001b[0m\u001b[0;34m:\u001b[0m\u001b[0;34m\u001b[0m\u001b[0;34m\u001b[0m\u001b[0m\n",
      "\u001b[0;31mNameError\u001b[0m: name 'Turtle' is not defined"
     ]
    }
   ],
   "source": [
    "ti = Turtle(400, 400)\n",
    "ti.goto(0, 400)\n",
    "ti.pen_down()\n",
    "ti.color('#ff0000')\n",
    "for i in range(80):\n",
    "    ti.forward(20)\n",
    "    ti.pen_toggle()\n",
    "    ti.left(i)"
   ]
  },
  {
   "cell_type": "code",
   "execution_count": 4,
   "metadata": {},
   "outputs": [],
   "source": [
    "turtle1 = Turtle(600,600)"
   ]
  },
  {
   "cell_type": "code",
   "execution_count": 5,
   "metadata": {},
   "outputs": [
    {
     "data": {
      "application/vnd.jupyter.widget-view+json": {
       "model_id": "ba4c94f1bd26409a84e1f99b4699ac1c",
       "version_major": 2,
       "version_minor": 0
      },
      "text/plain": [
       "Canvas(layout=Layout(height='600px', width='600px'), size=(600, 600))"
      ]
     },
     "metadata": {},
     "output_type": "display_data"
    }
   ],
   "source": [
    "turtle1.widget()"
   ]
  },
  {
   "cell_type": "code",
   "execution_count": 6,
   "metadata": {},
   "outputs": [],
   "source": [
    "ti.color('#00FF00')\n",
    "for i in range(4):\n",
    "    ti.right(90)\n",
    "    ti.forward(30)"
   ]
  },
  {
   "cell_type": "code",
   "execution_count": 7,
   "metadata": {},
   "outputs": [
    {
     "data": {
      "application/vnd.jupyter.widget-view+json": {
       "model_id": "97290e71cb6148a696d41ee13ebe29a4",
       "version_major": 2,
       "version_minor": 0
      },
      "text/plain": [
       "Canvas(layout=Layout(height='400px', width='400px'), size=(400, 400))"
      ]
     },
     "metadata": {},
     "output_type": "display_data"
    }
   ],
   "source": [
    "ti.image()"
   ]
  },
  {
   "cell_type": "code",
   "execution_count": 8,
   "metadata": {},
   "outputs": [],
   "source": [
    "ti.forward(100)"
   ]
  },
  {
   "cell_type": "code",
   "execution_count": 9,
   "metadata": {},
   "outputs": [
    {
     "data": {
      "application/vnd.jupyter.widget-view+json": {
       "model_id": "8f6e0bf07e5f4d3ab3713f10358aa00a",
       "version_major": 2,
       "version_minor": 0
      },
      "text/plain": [
       "Canvas(layout=Layout(height='400px', width='400px'), size=(400, 400))"
      ]
     },
     "metadata": {},
     "output_type": "display_data"
    }
   ],
   "source": [
    "ti.image()"
   ]
  },
  {
   "cell_type": "code",
   "execution_count": null,
   "metadata": {},
   "outputs": [],
   "source": []
  }
 ],
 "metadata": {
  "kernelspec": {
   "display_name": "Python 3",
   "language": "python",
   "name": "python3"
  },
  "language_info": {
   "codemirror_mode": {
    "name": "ipython",
    "version": 3
   },
   "file_extension": ".py",
   "mimetype": "text/x-python",
   "name": "python",
   "nbconvert_exporter": "python",
   "pygments_lexer": "ipython3",
   "version": "3.8.0"
  }
 },
 "nbformat": 4,
 "nbformat_minor": 4
}
