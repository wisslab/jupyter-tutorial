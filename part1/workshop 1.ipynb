{
 "cells": [
  {
   "cell_type": "markdown",
   "metadata": {},
   "source": [
    "# Workshop Module 1: Getting started and introduction\n",
    "\n",
    "## Jupyter Lab\n",
    "\n",
    "Jupyter is constanty developed and currently, there are two interfaces that can be used: Jupyter Lab and the classic Jupyter Notebook. As Jupyter Lab recently reached version 1.0 and will replace the classic interface in the future, we will use it during our tutorial.\n",
    "\n",
    "In order to have as much time as possibe for the interesting parts of the tutorial, i.e., how to use Jupyter Lab, please make sure that you have it already preinstalled on your machine, as described in the following section.\n",
    "\n",
    "## Preparation before the tutorial\n",
    "\n",
    "We recommend to install Anaconda, which contains Jupyter Lab. To ensure that we are all on the same version, please update Jupyter Lab to the most recent version, as follows:\n",
    "\n",
    "- Step 1: Install Anaconda distribution (https://www.anaconda.com/distribution/#download-section), Python 3.7 version for your OS\n",
    "- Step 2a: Open Anaconda Prompt from Start Menu <br>\n",
    "<img src=\"anaconda menu.png\" width=\"200\"><br/>\n",
    "- Step 2b: Type ```conda update jupyterlab```\n",
    "- Step 3 (Optional): Install a LaTeX environment for your OS (Linux: TeX Live, macOS (OS X): MacTeX, Windows: MikTex)\n",
    "\n",
    "The installation of the LaTeX environment is only needed to export Jupyter Notebooks as PDF. We will demonstrate this during the tutorial, but it is not necessary for the tutorial, that you can do this on your machine.\n",
    "\n",
    "To be sure that you are ready for our tutorial, please create a new directory that will use as working directory for this tutorial. Open Anaconda Prompt, navigate to this directory, and run the command ```jupyter lab```. Now your browser should open automatically, with Jupyter Lab running in your tutorial directory. Congratulations, you are ready!\n"
   ]
  },
  {
   "cell_type": "markdown",
   "metadata": {},
   "source": [
    "## Opening Jupyter notebooks\n",
    "\n",
    "<img src=\"jupyter menu.png\" width=\"800\"><br/>\n",
    "\n",
    "Labs comes with a file browser and a launcher to create a new lab from scratch. \n",
    "\n",
    "To open an existing Jupyter notebook, you can simply navigate to the folder where it is stored and click the ```.ipynb``` file. There are file viewers for other file types included as well and the Labs environment will remember your open tabs for the next session.\n",
    "\n",
    "To close the Jupyterlab environment, use the ```File -> Shutdown``` menu entry.\n",
    "\n",
    "### Your task 1\n",
    "\n",
    "- Download the files for this workshop from *TODO URL*\n",
    "- Unzip the contents in a convenient location\n",
    "- Start Jupyter Labs\n",
    "- Navigate to your chosen location\n",
    "- Double click the ```workshop 1.ipynb``` file to open it\n"
   ]
  },
  {
   "cell_type": "markdown",
   "metadata": {},
   "source": [
    "## Cells\n",
    "\n",
    "A notebook is made of cells. Cells can contain styled text, program code or raw data. To set the cell type, click into the cell and select it from the menu on top.\n",
    "\n",
    "<img src=\"notebook menu.png\" width=\"400\"><br/>\n",
    "\n",
    "Cells can be re-arranged by moving them with the mouse. By clicking the blue bar to the left, cells can be collapsed or expanded.\n",
    "\n",
    "<img src=\"cell collapse.png\" width=\"400\"><br/>\n",
    "\n",
    "Double click a cell to edit. \n",
    "\n",
    "We will start with the styled text cell type. Notebooks use *markdown*, which is both easy to write and easy to read. Markdown is used in many other places, e.g. Wikis, Wordpress or other CMS systems. The following is a short overview of the common markdown capabilities.\n",
    "\n",
    "Shift-return will *render* the markdown cell you are currently editing.\n"
   ]
  },
  {
   "cell_type": "markdown",
   "metadata": {},
   "source": [
    "## Markdown overview\n",
    "\n",
    "Markdown has multiple ways to express styling, with many options. This overview covers the basic features only. See https://daringfireball.net/projects/markdown/syntax or one of the reference sheets listed in the **resources** section for more.\n",
    "\n",
    "### Headers\n",
    "\n",
    "    # Header level 1\n",
    "    ## Header lebel 2\n",
    "    ### Header level 3\n",
    "    \n",
    "will render as\n",
    "\n",
    "# Header level 1\n",
    "## Header lebel 2\n",
    "### Header level 3\n",
    "\n",
    "    \n",
    "### Text styles\n",
    "\n",
    "    **Bold text**\n",
    "    *Italic text*\n",
    "\n",
    "will render as\n",
    "\n",
    "**Bold text**\n",
    "*Italic text*\n",
    "\n",
    "### Lists\n",
    "\n",
    "    - Item 1\n",
    "    - Item 2\n",
    "        - Sub-item 2a\n",
    "        - Sub-item 2b\n",
    "\n",
    "will render as \n",
    "\n",
    "- Item 1\n",
    "- Item 2\n",
    "    - Sub-item 2a\n",
    "    - Sub-item 2b\n",
    "\n",
    "\n",
    "### URLs\n",
    "\n",
    "URLs are made clickable automatically. If you want an alternative text for the link, use\n",
    "\n",
    "    [Text for link](http://example.com/)\n",
    "\n",
    "### Preformatted text (code, filenames, etc.)\n",
    "\n",
    "Use 4 spaces or 1 tab indent to mark code. It will be rendered as a monospace font indented block (just like the examples above). Inline code like `this text` can be done using backquotes.\n",
    "\n",
    "### Mathematic formulas\n",
    "\n",
    "Notebooks support LaTeX mathematics formulas. Use `$` signs at start and end of a line to plot it. \n",
    "\n",
    "```$y = x^2$``` will be rendered as $y = x^2$\n",
    "\n",
    "### Images\n",
    "\n",
    "Images are included with a syntax similar to links.\n",
    "\n",
    "    ![Alt text](/path/to/img.jpg)\n",
    "\n",
    "As markdown allows to use inline HTML, one can use that as well. This allows resizing of images. Example:\n",
    "\n",
    "    <img src=\"/path/to/img.png\" width=\"400\"/><br/>\n",
    "\n",
    "### Misc\n",
    "\n",
    "Horizontal rule\n",
    "\n",
    "    ***\n",
    "    \n",
    "Highlight boxes can be done by inline HTML - but be careful. You cannot combine inline HTML and Markdown.\n",
    "\n",
    "    <div class=\"alert alert-block alert-warning\">Box content</div>\n",
    "\n",
    "will render as\n",
    "\n",
    "<div class=\"alert alert-block alert-warning\">Box content</div>\n",
    "\n",
    "Supported variants are `altert-warning`, `alert-info`, `alert-success`, `alert-danger`\n",
    "\n",
    "### Your task 2\n",
    "\n",
    "- Click on the \"+\" button of the menu to create a new cell. It will be inserted after the cell that is currently selected.\n",
    "- Set the type to markdown\n",
    "- Try out some of the markdown features. Type some text, highlight words, create a list, ...\n",
    "- Try rendering a LaTeX formula. If you do not use LaTeX, here is an example: `$F(x) &= \\int^a_b \\frac{1}{3}x^3$`\n",
    "\n",
    "\n"
   ]
  },
  {
   "cell_type": "markdown",
   "metadata": {},
   "source": [
    "## Using code\n",
    "\n",
    "The fun starts with code cells. Python code can be put in a cell and be executed by clicking the triangle (\"play\") icon in the menu \n",
    "\n",
    "<img src=\"notebook menu.png\" width=\"400\"><br/>\n",
    "\n",
    "or by shift-return from the editor.\n",
    "\n",
    "Let's have a few simple examples:\n"
   ]
  },
  {
   "cell_type": "code",
   "execution_count": 1,
   "metadata": {},
   "outputs": [
    {
     "name": "stdout",
     "output_type": "stream",
     "text": [
      "Hello World!\n"
     ]
    }
   ],
   "source": [
    "#output\n",
    "print (\"Hello World!\")"
   ]
  },
  {
   "cell_type": "code",
   "execution_count": 2,
   "metadata": {},
   "outputs": [
    {
     "data": {
      "text/plain": [
       "16"
      ]
     },
     "execution_count": 2,
     "metadata": {},
     "output_type": "execute_result"
    }
   ],
   "source": [
    "#calculations\n",
    "7+9"
   ]
  },
  {
   "cell_type": "code",
   "execution_count": 3,
   "metadata": {},
   "outputs": [
    {
     "name": "stdout",
     "output_type": "stream",
     "text": [
      "0\n",
      "1\n",
      "2\n",
      "3\n",
      "4\n",
      "5\n",
      "6\n",
      "7\n",
      "8\n",
      "9\n"
     ]
    }
   ],
   "source": [
    "#loops\n",
    "for i in range(10):\n",
    "    print(i)\n",
    "    "
   ]
  },
  {
   "cell_type": "code",
   "execution_count": 4,
   "metadata": {},
   "outputs": [
    {
     "name": "stdout",
     "output_type": "stream",
     "text": [
      "Who are you?\n"
     ]
    },
    {
     "name": "stdin",
     "output_type": "stream",
     "text": [
      " Magnus\n"
     ]
    },
    {
     "name": "stdout",
     "output_type": "stream",
     "text": [
      "Nice to meet you, Magnus\n"
     ]
    }
   ],
   "source": [
    "#input\n",
    "print (\"Who are you?\")\n",
    "x = input()\n",
    "print (\"Nice to meet you,\",x )"
   ]
  },
  {
   "cell_type": "markdown",
   "metadata": {},
   "source": [
    "You can see in the examples above that the output from the code will be rendered directly following the code. Code can be changed on the fly, and the output will change accordingly if the cell is rendered.\n",
    "\n",
    "The environment is shared, so you can access data from other cells. Cells are not automatically re-rendered if earlier cells change."
   ]
  },
  {
   "cell_type": "code",
   "execution_count": 5,
   "metadata": {},
   "outputs": [
    {
     "name": "stdout",
     "output_type": "stream",
     "text": [
      "I still remember you, Magnus\n"
     ]
    }
   ],
   "source": [
    "print(\"I still remember you,\",x)"
   ]
  },
  {
   "cell_type": "markdown",
   "metadata": {},
   "source": [
    "\n",
    "### Your task 3\n",
    "\n",
    "Change the code from the examples and re-run it\n",
    "\n",
    "- print *Hello DCMI2019*\n",
    "- calculate 27/9\n",
    "- count from 0 to 15\n",
    "\n",
    "Try the input code.\n",
    "\n",
    "- execute the cell and enter your name\n",
    "- execute the *I still remember you* cell to see the persistence"
   ]
  },
  {
   "cell_type": "markdown",
   "metadata": {},
   "source": [
    "## Tables\n",
    "\n",
    "\"Pure\" markdown has no provisions for tables. Most variants (inluding that used in notebooks) allow writing simple tables:\n",
    "\n",
    "    | A  | B  | C  | D  | E  |\n",
    "    |---|---|---|---|---|\n",
    "    | 1  | 6  | 7  | 2  | 3  |\n",
    "    | 2  | 5  | 8  | 1  | 4  |\n",
    "    | 3  | 4  | 9  | 0  | 5  |\n",
    "    \n",
    "is rendered as\n",
    "\n",
    "| A  | B  | C  | D  | E  |\n",
    "|---|---|---|---|---|\n",
    "| 1  | 6  | 7  | 2  | 3  |\n",
    "| 2  | 5  | 8  | 1  | 4  |\n",
    "| 3  | 4  | 9  | 0  | 5  |\n",
    "     \n",
    "Another example:\n",
    "\n",
    "    | col 1 |  col 2 | col 3 |\n",
    "    |----------|:-------------:|------:|\n",
    "    | col 1 is |  left-aligned | 1600 |\n",
    "    | col 2 is |    centered   |   12 |\n",
    "    | col 3 is | right-aligned |    1 |\n",
    "\n",
    "is rendered as\n",
    "\n",
    "| col 1 |  col 2 | col 3 |\n",
    "|----------|:-------------:|------:|\n",
    "| col 1 is |  left-aligned | 1600 |\n",
    "| col 2 is |    centered   |   12 |\n",
    "| col 3 is | right-aligned |    1 |\n",
    "\n",
    "\n",
    "One could always use HTML tables for more complex tables.\n",
    "\n",
    "For large tables with data, using python to work with the data is more useful. Note that text data can be opened in Jupyter as well.\n"
   ]
  },
  {
   "cell_type": "code",
   "execution_count": 17,
   "metadata": {},
   "outputs": [
    {
     "name": "stdout",
     "output_type": "stream",
     "text": [
      "Learn Python the Hard Way: A Very Simple Introduction to the Terrifyingly Beautiful World of Computers and Code 2013\n",
      "Automate the Boring Stuff with Python: Practical Programming for Total Beginners 2015\n",
      "Python Made Simple: Learn Python programming in easy steps with examples 2019\n"
     ]
    }
   ],
   "source": [
    "import csv\n",
    "csvfile = open('books.csv', newline='')\n",
    "books = csv.DictReader(csvfile)\n",
    "\n",
    "for row in books:\n",
    "    print(row['Title'], row['Year']) \n"
   ]
  },
  {
   "cell_type": "code",
   "execution_count": 4,
   "metadata": {},
   "outputs": [
    {
     "data": {
      "text/html": [
       "<div>\n",
       "<style scoped>\n",
       "    .dataframe tbody tr th:only-of-type {\n",
       "        vertical-align: middle;\n",
       "    }\n",
       "\n",
       "    .dataframe tbody tr th {\n",
       "        vertical-align: top;\n",
       "    }\n",
       "\n",
       "    .dataframe thead th {\n",
       "        text-align: right;\n",
       "    }\n",
       "</style>\n",
       "<table border=\"1\" class=\"dataframe\">\n",
       "  <thead>\n",
       "    <tr style=\"text-align: right;\">\n",
       "      <th></th>\n",
       "      <th>Title</th>\n",
       "      <th>Author</th>\n",
       "      <th>Year</th>\n",
       "      <th>Publisher</th>\n",
       "    </tr>\n",
       "  </thead>\n",
       "  <tbody>\n",
       "    <tr>\n",
       "      <td>0</td>\n",
       "      <td>Learn Python the Hard Way: A Very Simple Intro...</td>\n",
       "      <td>Zed Shaw</td>\n",
       "      <td>2013</td>\n",
       "      <td>Addison Wesley</td>\n",
       "    </tr>\n",
       "    <tr>\n",
       "      <td>1</td>\n",
       "      <td>Automate the Boring Stuff with Python: Practic...</td>\n",
       "      <td>Albert Sweigart</td>\n",
       "      <td>2015</td>\n",
       "      <td>No Starch Press</td>\n",
       "    </tr>\n",
       "    <tr>\n",
       "      <td>2</td>\n",
       "      <td>Python Made Simple: Learn Python programming i...</td>\n",
       "      <td>Rydhm Beri</td>\n",
       "      <td>2019</td>\n",
       "      <td>BPB Publications</td>\n",
       "    </tr>\n",
       "  </tbody>\n",
       "</table>\n",
       "</div>"
      ],
      "text/plain": [
       "                                               Title             Author  Year  \\\n",
       "0  Learn Python the Hard Way: A Very Simple Intro...           Zed Shaw  2013   \n",
       "1  Automate the Boring Stuff with Python: Practic...   Albert Sweigart   2015   \n",
       "2  Python Made Simple: Learn Python programming i...        Rydhm Beri   2019   \n",
       "\n",
       "          Publisher  \n",
       "0    Addison Wesley  \n",
       "1   No Starch Press  \n",
       "2  BPB Publications  "
      ]
     },
     "execution_count": 4,
     "metadata": {},
     "output_type": "execute_result"
    }
   ],
   "source": [
    "import pandas as pd\n",
    "books = pd.read_csv('books.csv', delimiter = ',')\n",
    "\n",
    "books\n"
   ]
  },
  {
   "cell_type": "markdown",
   "metadata": {},
   "source": [
    "## Markdown references and cheat sheets\n",
    "\n",
    "https://www.markdownguide.org/assets/book/markdown-guide.pdf\n",
    "\n",
    "https://github.com/ikatyang/emoji-cheat-sheet/blob/master/README.md\n",
    "\n",
    "https://guides.github.com/features/mastering-markdown/\n",
    "\n",
    "https://www.heise.de/mac-and-i/downloads/65/1/1/6/7/1/0/3/Markdown-CheatSheet-Deutsch.pdf\n",
    "\n",
    "https://packetlife.net/media/library/16/Markdown.pdf\n",
    "\n",
    "https://stationinthemetro.com/wp-content/uploads/2013/04/Markdown_Cheat_Sheet_v1-1.pdf\n",
    "\n",
    "https://www.dataquest.io/blog/jupyter-notebook-tips-tricks-shortcuts/\n"
   ]
  },
  {
   "cell_type": "markdown",
   "metadata": {},
   "source": [
    "## Links to notebooks\n",
    "\n",
    "https://github.com/jerry-git/learn-python3\n",
    "\n",
    "https://github.com/jupyter/jupyter/wiki/A-gallery-of-interesting-Jupyter-Notebooks\n",
    "\n"
   ]
  }
 ],
 "metadata": {
  "kernelspec": {
   "display_name": "Python 3",
   "language": "python",
   "name": "python3"
  },
  "language_info": {
   "codemirror_mode": {
    "name": "ipython",
    "version": 3
   },
   "file_extension": ".py",
   "mimetype": "text/x-python",
   "name": "python",
   "nbconvert_exporter": "python",
   "pygments_lexer": "ipython3",
   "version": "3.7.3"
  }
 },
 "nbformat": 4,
 "nbformat_minor": 4
}
