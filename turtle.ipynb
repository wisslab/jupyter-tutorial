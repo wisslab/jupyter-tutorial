{
 "cells": [
  {
   "cell_type": "markdown",
   "metadata": {},
   "source": [
    "# Turtle graphics in Jupyter Labs\n",
    "\n",
    "## Installation\n",
    "\n",
    "```\n",
    "jupyter labextension install @jupyter-widgets/jupyterlab-manager ipycanvas\n",
    "pip install ipycanvas\n",
    "\n",
    "```\n",
    "\n",
    "The idea is to implement a turtle graphics implementation, ideally compatible to PyTurtle."
   ]
  },
  {
   "cell_type": "code",
   "execution_count": 1,
   "metadata": {},
   "outputs": [],
   "source": [
    "from ipycanvas import Canvas"
   ]
  },
  {
   "cell_type": "markdown",
   "metadata": {},
   "source": [
    "## The Turtle Module\n",
    "\n",
    "This will eventually be externalized into a proper Python module.\n",
    "\n",
    "For now, please use the code as documentation. It should mostly be self-explanatory. There are two ways to actually draw a Turtle image. When ```turtle.image()``` is used, the current state of the turtle image is drawn, future turtle commands will not change it any more. When ```turtle.widget()``` is used, a dynamic widget is created that is automatically updated, whenever new commands are issued."
   ]
  },
  {
   "cell_type": "code",
   "execution_count": 2,
   "metadata": {},
   "outputs": [],
   "source": [
    "import math\n",
    "\n",
    "class Turtle:\n",
    "    canvas = None\n",
    "    pyturtle = True\n",
    "    width = 0\n",
    "    height = 0\n",
    "    pen = False\n",
    "    _color = '#000000'\n",
    "    direction = 0\n",
    "    x = 0.0\n",
    "    y = 0.0\n",
    "    _commands = []\n",
    "    _buffers = []\n",
    "    def __init__(self, width, height, pyturtle=True):\n",
    "        self.width = width\n",
    "        self.height = height\n",
    "        self.canvas = Canvas(size=(width, height))\n",
    "        self.canvas.caching = True\n",
    "    def draw(self):\n",
    "        self._commands.extend(self.canvas._commands_cache)\n",
    "        self._buffers.extend(self.canvas._buffers_cache)\n",
    "        self.canvas.flush()\n",
    "        self.canvas.caching = True\n",
    "    def widget(self):\n",
    "        return self.canvas\n",
    "    def image(self):\n",
    "        res = Canvas(size=(self.width, self.height))\n",
    "        res.caching = True\n",
    "        res._commands_cache = self._commands\n",
    "        res._buffers_cache = self._buffers\n",
    "        res.flush()\n",
    "        return res\n",
    "    def pen_down(self):\n",
    "        self.pen = True\n",
    "    def pen_up(self):\n",
    "        self.pen = False\n",
    "    def pen_toggle(self):\n",
    "        self.pen = not self.pen\n",
    "    def color(self, col):\n",
    "        self._color = col\n",
    "    def goto(self, x, y):\n",
    "        self.x = x\n",
    "        self.y = y\n",
    "        self.canvas.move_to(x,y)\n",
    "    def left(self, deg):\n",
    "        self.direction -= deg\n",
    "    def right(self, deg):\n",
    "        self.direction += deg\n",
    "    def deg2rad(self, deg):\n",
    "        return deg / 360 * 2 * math.pi\n",
    "    def rad2deg(self, rad):\n",
    "        return rad / (2 * math.pi) * 360\n",
    "    def forward(self, steps):\n",
    "        new_x = self.x + steps * math.cos(self.deg2rad(self.direction))\n",
    "        new_y = self.y + steps * math.sin(self.deg2rad(self.direction))\n",
    "        if self.pen:\n",
    "            self.canvas.begin_path()\n",
    "            self.canvas.stroke_style = self._color\n",
    "            self.canvas.move_to(self.x,self.y)\n",
    "            self.canvas.line_to(new_x, new_y)\n",
    "            self.canvas.stroke()\n",
    "            self.draw()\n",
    "        self.x = new_x \n",
    "        self.y = new_y "
   ]
  },
  {
   "cell_type": "code",
   "execution_count": 3,
   "metadata": {},
   "outputs": [],
   "source": [
    "ti = Turtle(400, 400)\n",
    "ti.goto(0, 400)\n",
    "ti.pen_down()\n",
    "ti.color('#ff0000')\n",
    "for i in range(100):\n",
    "    ti.forward(20)\n",
    "    ti.pen_toggle()\n",
    "    ti.left(i)"
   ]
  },
  {
   "cell_type": "code",
   "execution_count": 4,
   "metadata": {},
   "outputs": [
    {
     "data": {
      "application/vnd.jupyter.widget-view+json": {
       "model_id": "729e36c2aef84c5bbe911e49fb9a4ad4",
       "version_major": 2,
       "version_minor": 0
      },
      "text/plain": [
       "Canvas(layout=Layout(height='400px', width='400px'), size=(400, 400))"
      ]
     },
     "metadata": {},
     "output_type": "display_data"
    }
   ],
   "source": [
    "ti.widget()"
   ]
  },
  {
   "cell_type": "code",
   "execution_count": 5,
   "metadata": {},
   "outputs": [
    {
     "data": {
      "application/vnd.jupyter.widget-view+json": {
       "model_id": "113521d832f14f35b48d9f8a2cd8acf1",
       "version_major": 2,
       "version_minor": 0
      },
      "text/plain": [
       "Canvas(layout=Layout(height='400px', width='400px'), size=(400, 400))"
      ]
     },
     "metadata": {},
     "output_type": "display_data"
    }
   ],
   "source": [
    "ti.image()"
   ]
  },
  {
   "cell_type": "code",
   "execution_count": 6,
   "metadata": {},
   "outputs": [],
   "source": [
    "ti.color('#00FF00')\n",
    "for i in range(4):\n",
    "    ti.right(90)\n",
    "    ti.forward(30)"
   ]
  },
  {
   "cell_type": "code",
   "execution_count": 7,
   "metadata": {},
   "outputs": [
    {
     "data": {
      "application/vnd.jupyter.widget-view+json": {
       "model_id": "f61651aab7a747be8b0a66406364c66e",
       "version_major": 2,
       "version_minor": 0
      },
      "text/plain": [
       "Canvas(layout=Layout(height='400px', width='400px'), size=(400, 400))"
      ]
     },
     "metadata": {},
     "output_type": "display_data"
    }
   ],
   "source": [
    "ti.image()"
   ]
  }
 ],
 "metadata": {
  "kernelspec": {
   "display_name": "Python 3",
   "language": "python",
   "name": "python3"
  },
  "language_info": {
   "codemirror_mode": {
    "name": "ipython",
    "version": 3
   },
   "file_extension": ".py",
   "mimetype": "text/x-python",
   "name": "python",
   "nbconvert_exporter": "python",
   "pygments_lexer": "ipython3",
   "version": "3.7.4"
  }
 },
 "nbformat": 4,
 "nbformat_minor": 4
}
