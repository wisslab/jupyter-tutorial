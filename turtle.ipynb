{
 "cells": [
  {
   "cell_type": "markdown",
   "metadata": {},
   "source": [
    "# Turtle graphics in Jupyter Labs\n",
    "\n",
    "## Installation\n",
    "\n",
    "```\n",
    "jupyter labextension install @jupyter-widgets/jupyterlab-manager ipycanvas\n",
    "pip install ipycanvas\n",
    "\n",
    "```\n",
    "\n",
    "The idea is to implement a turtle graphics implementation, ideally compatible to PyTurtle."
   ]
  },
  {
   "cell_type": "code",
   "execution_count": 17,
   "metadata": {},
   "outputs": [],
   "source": [
    "from ipycanvas import Canvas"
   ]
  },
  {
   "cell_type": "code",
   "execution_count": 84,
   "metadata": {},
   "outputs": [],
   "source": [
    "class Turtle_Image:\n",
    "    canvas = None\n",
    "    width = 0\n",
    "    height = 0\n",
    "    pen = False\n",
    "    color = '#000000'\n",
    "    def __init__(self, width, height):\n",
    "        self.width = width\n",
    "        self.height = height\n",
    "        self.canvas = Canvas(size=(width, height))\n",
    "    def draw(self):\n",
    "        return self.canvas\n",
    "    def pen_down(self):\n",
    "        self.pen = True\n",
    "    def pen_up(self):\n",
    "        self.pen = False\n",
    "    def goto(self, x, y):\n",
    "        self.x = x\n",
    "        self.y = y\n",
    "        self.canvas.move_to(x,y)\n",
    "    def forward(self, steps):\n",
    "        if self.pen:\n",
    "            self.canvas.begin_path()\n",
    "            self.canvas.move_to(self.x,self.y)\n",
    "            self.y -= 10\n",
    "            self.canvas.line_to(self.x, self.y)\n",
    "            self.canvas.stroke()\n",
    "        else:\n",
    "            self.y -= 10\n",
    "        "
   ]
  },
  {
   "cell_type": "code",
   "execution_count": 85,
   "metadata": {},
   "outputs": [],
   "source": [
    "ti = Turtle_Image(100, 100)\n",
    "ti.goto(50, 50)\n",
    "ti.pen_down()\n",
    "ti.forward(10)"
   ]
  },
  {
   "cell_type": "code",
   "execution_count": 86,
   "metadata": {},
   "outputs": [
    {
     "data": {
      "application/vnd.jupyter.widget-view+json": {
       "model_id": "bdade9f3e040499488768015fe4b42e3",
       "version_major": 2,
       "version_minor": 0
      },
      "text/plain": [
       "Canvas(layout=Layout(height='100px', width='100px'), size=(100, 100))"
      ]
     },
     "metadata": {},
     "output_type": "display_data"
    }
   ],
   "source": [
    "ti.draw()"
   ]
  },
  {
   "cell_type": "code",
   "execution_count": null,
   "metadata": {},
   "outputs": [],
   "source": []
  },
  {
   "cell_type": "code",
   "execution_count": null,
   "metadata": {},
   "outputs": [],
   "source": []
  }
 ],
 "metadata": {
  "kernelspec": {
   "display_name": "Python 3",
   "language": "python",
   "name": "python3"
  },
  "language_info": {
   "codemirror_mode": {
    "name": "ipython",
    "version": 3
   },
   "file_extension": ".py",
   "mimetype": "text/x-python",
   "name": "python",
   "nbconvert_exporter": "python",
   "pygments_lexer": "ipython3",
   "version": "3.7.4"
  }
 },
 "nbformat": 4,
 "nbformat_minor": 4
}
