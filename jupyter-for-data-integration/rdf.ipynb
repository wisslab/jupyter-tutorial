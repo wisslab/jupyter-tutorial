{
 "cells": [
  {
   "cell_type": "code",
   "execution_count": 16,
   "metadata": {},
   "outputs": [],
   "source": [
    "from SPARQLWrapper import SPARQLWrapper, JSON\n",
    "import rdflib\n",
    "# sparql = SPARQLWrapper(\"http://data.judaicalink.org/sparql/query\")\n",
    "\n",
    "sparqlquery = SPARQLWrapper(\"http://localhost:3030/tutorial/query\")\n",
    "sparqlupdate = SPARQLWrapper(\"http://localhost:3030/tutorial/update\")"
   ]
  },
  {
   "cell_type": "code",
   "execution_count": 17,
   "metadata": {},
   "outputs": [],
   "source": [
    "prefixes = [\n",
    "    (\"rdf\", \"http://www.w3.org/1999/02/22-rdf-syntax-ns#\"),\n",
    "    (\"rdfs\", \"http://www.w3.org/2000/01/rdf-schema#\"),\n",
    "    (\"owl\", \"http://www.w3.org/2002/07/owl#\"),\n",
    "    (\"skos\", \"http://www.w3.org/2004/02/skos/core#\"),\n",
    "    (\"foaf\", \"http://xmlns.com/foaf/0.1/\"),\n",
    "    (\"dc\", \"http://purl.org/dc/terms/\"),\n",
    "    (\"h\", \"http://\"),\n",
    "]\n",
    "\n",
    "INT = \"http://www.w3.org/2001/XMLSchema#integer\"\n",
    "a = \"rdf:type\""
   ]
  },
  {
   "cell_type": "code",
   "execution_count": 18,
   "metadata": {},
   "outputs": [],
   "source": [
    "def literal(value, langOrType=None):\n",
    "    res = '\"{}\"'.format(value)\n",
    "    if langOrType==None:\n",
    "        return res\n",
    "    if len(langOrType)==2:\n",
    "        return \"{}@{}\".format(res, langOrType)\n",
    "    else:\n",
    "        return \"{}^^{}\".format(res, langOrType)\n",
    "\n",
    "\n",
    "def expand(uri, prefixes=prefixes):\n",
    "    if \"<\" == uri[0]:\n",
    "        return uri\n",
    "    if '\"' == uri[0] or \"'\" == uri[0]:\n",
    "        return uri\n",
    "    if \"http://\" == uri[:7] or \"https://\" == uri[:8]:\n",
    "        return \"<{}>\".format(uri)\n",
    "    for p in prefixes:\n",
    "        if \"{}:\".format(p[0]) == uri[:len(p[0])+1]:\n",
    "            return \"<{}>\".format(uri.replace(\"{}:\".format(p[0]), p[1]))\n",
    "    return '\"{}\"'.format(uri)\n",
    "\n",
    "\n",
    "def insert(data, prefixes=prefixes):\n",
    "    prefixstring = \"\\n\".join(map(lambda x: \"PREFIX {}: <{}>\".format(x[0], x[1]), prefixes))\n",
    "\n",
    "    query = \"%s INSERT { %s } WHERE {}\" % (prefixstring, data)\n",
    "    sparqlupdate.setQuery(query)\n",
    "    sparqlupdate.setReturnFormat(JSON)\n",
    "    sparqlupdate.method = 'POST'\n",
    "    return sparqlupdate.query()\n",
    "\n",
    "def select(variables, where, prefixes, limit=10):\n",
    "    prefixstring = \"\\n\".join(map(lambda x: \"PREFIX {}: <{}>\".format(x[0], x[1]), prefixes))\n",
    "    query = \"%s\\n\\nSELECT %s WHERE { %s } LIMIT %s\" % (prefixstring, variables, where, limit)\n",
    "    sparqlquery.setQuery(query)\n",
    "    sparqlquery.setReturnFormat(JSON)\n",
    "    sparqlquery.method = 'GET'\n",
    "    return sparqlquery.query().convert()\n",
    "\n",
    "def getValues(result, *variable):\n",
    "    for b in result[\"results\"][\"bindings\"]:\n",
    "        res = []\n",
    "        for v in variable:\n",
    "            res.append(b[v[1:]][\"value\"])\n",
    "        yield tuple(res)\n",
    "\n",
    "def get(uri):\n",
    "    uri = expand(uri)\n",
    "    uri = uri[1:-1]\n",
    "    graph = rdflib.Graph()\n",
    "    graph.parse(uri)\n",
    "    return graph.serialize(format='nt').decode()\n",
    "\n",
    "\n",
    "def triple(subject, predicate, object, prefixes=prefixes):\n",
    "    return \"{} {} {} .\".format(expand(subject, prefixes),\n",
    "                             expand(predicate, prefixes),\n",
    "                             expand(object, prefixes))"
   ]
  },
  {
   "cell_type": "code",
   "execution_count": 9,
   "metadata": {},
   "outputs": [],
   "source": [
    "neuedaten = get(\"http://dbpedia.org/resource/Oskar_Trautmann\")"
   ]
  },
  {
   "cell_type": "code",
   "execution_count": 10,
   "metadata": {},
   "outputs": [
    {
     "data": {
      "text/plain": [
       "'<http://dbpedia.org/resource/Oskar_Trautmann> <http://dbpedia.org/ontology/abstract> \"Oskar Paul Trautmann (* 7. Mai 1877 in Stradow; \\\\u2020 10. Dezember 1950 in Schlichow) war ein deutscher Diplomat.\"@de .\\n<http://dbpedia.org/resource/Oskar_Trautmann> <http://www.w3.org/2000/01/rdf-schema#label> \"Oskar Trautmann\"@de .\\n<http://dbpedia.org/resource/Oskar_Trautmann> <http://dbpedia.org/ontology/deathPlace> <http://dbpedia.org/resource/Berlin> .\\n<http://dbpedia.org/resource/Oskar_Trautmann> <http://www.w3.org/1999/02/22-rdf-syntax-ns#type> <http://dbpedia.org/class/yago/Worker109632518> .\\n<http://dbpedia.org/resource/Oskar_Trautmann> <http://dbpedia.org/ontology/abstract> \"Oskar Trautmann (7 May 1877 \\\\u2013 10 December 1950) was a German diplomat.\"@en .\\n<http://dbpedia.org/resource/Oskar_Trautmann> <http://www.w3.org/1999/02/22-rdf-syntax-ns#type> <http://dbpedia.org/class/yago/Whole100003553> .\\n<http://dbpedia.org/resource/Oskar_Trautmann> <http://dbpedia.org/ontology/deathDate> \"1950-12-10\"^^<http://www.w3.org/2001/XMLSchema#date> .\\n<http://dbpedia.org/resource/Oskar_Trautmann> <http://dbpedia.org/ontology/wikiPageID> \"26652937\"^^<http://www.w3.org/2001/XMLSchema#integer> .\\n<http://dbpedia.org/resource/Oskar_Trautmann> <http://dbpedia.org/ontology/abstract> \"\\\\u30AA\\\\u30B9\\\\u30AB\\\\u30FC\\\\u30FB\\\\u30C8\\\\u30E9\\\\u30A6\\\\u30C8\\\\u30DE\\\\u30F3\\\\uFF08Oskar P. Trautmann, 1877\\\\u5E745\\\\u67087\\\\u65E5 \\\\u2013 1950\\\\u5E7412\\\\u670810\\\\u65E5\\\\uFF09\\\\u306F\\\\u3001\\\\u30C9\\\\u30A4\\\\u30C4\\\\u306E\\\\u5916\\\\u4EA4\\\\u5B98\\\\u3002\\\\u65E5\\\\u4E2D\\\\u6226\\\\u4E89\\\\u306E\\\\u548C\\\\u5E73\\\\u4EA4\\\\u6E09\\\\u3092\\\\u4EF2\\\\u4ECB\\\\u3057\\\\u305F\\\\u30C8\\\\u30E9\\\\u30A6\\\\u30C8\\\\u30DE\\\\u30F3\\\\u548C\\\\u5E73\\\\u5DE5\\\\u4F5C\\\\u3067\\\\u77E5\\\\u3089\\\\u308C\\\\u308B\\\\u3002\"@ja .\\n<http://dbpedia.org/resource/Oskar_Trautmann> <http://purl.org/dc/terms/subject> <http://dbpedia.org/resource/Category:German_diplomats> .\\n<http://dbpedia.org/resource/Oskar_Trautmann> <http://www.w3.org/1999/02/22-rdf-syntax-ns#type> <http://dbpedia.org/class/yago/Official110372373> .\\n<http://dbpedia.org/resource/Oskar_Trautmann> <http://www.w3.org/1999/02/22-rdf-syntax-ns#type> <http://dbpedia.org/class/yago/CausalAgent100007347> .\\n<http://dbpedia.org/resource/Oskar_Trautmann> <http://xmlns.com/foaf/0.1/givenName> \"Oskar\"@en .\\n<http://dbpedia.org/resource/Oskar_Trautmann> <http://www.w3.org/2002/07/owl#sameAs> <http://wikidata.dbpedia.org/resource/Q9031042> .\\n<http://dbpedia.org/resource/Oskar_Trautmann> <http://www.w3.org/2002/07/owl#sameAs> <http://dbpedia.org/resource/Oskar_Trautmann> .\\n<http://dbpedia.org/resource/Oskar_Trautmann> <http://www.w3.org/1999/02/22-rdf-syntax-ns#type> <http://dbpedia.org/class/yago/PhysicalEntity100001930> .\\n<http://dbpedia.org/resource/Oskar_Trautmann> <http://www.w3.org/1999/02/22-rdf-syntax-ns#type> <http://dbpedia.org/class/yago/WikicatAmbassadorsOfGermanyToChina> .\\n<http://dbpedia.org/resource/Oskar_Trautmann> <http://dbpedia.org/ontology/wikiPageRevisionID> \"717938569\"^^<http://www.w3.org/2001/XMLSchema#integer> .\\n<http://dbpedia.org/resource/Oskar_Trautmann> <http://www.w3.org/2002/07/owl#sameAs> <http://yago-knowledge.org/resource/Oskar_Trautmann> .\\n<http://dbpedia.org/resource/Oskar_Trautmann> <http://www.w3.org/1999/02/22-rdf-syntax-ns#type> <http://www.w3.org/2002/07/owl#Thing> .\\n<http://dbpedia.org/resource/Oskar_Trautmann> <http://www.w3.org/2000/01/rdf-schema#label> \"Oskar Trautmann\"@en .\\n<http://dbpedia.org/resource/Oskar_Trautmann> <http://xmlns.com/foaf/0.1/isPrimaryTopicOf> <http://en.wikipedia.org/wiki/Oskar_Trautmann> .\\n<http://dbpedia.org/resource/Oskar_Trautmann> <http://dbpedia.org/ontology/birthPlace> <http://wikidata.dbpedia.org/resource/Q2352727> .\\n<http://dbpedia.org/resource/Oskar_Trautmann> <http://xmlns.com/foaf/0.1/name> \"Oskar Trautmann\"@en .\\n<http://dbpedia.org/resource/Oskar_Trautmann> <http://www.w3.org/2000/01/rdf-schema#comment> \"\\\\u9676\\\\u5FB7\\\\u66FC\\\\uFF0C\\\\u5168\\\\u540D\\\\u70BA\\\\u5967\\\\u65AF\\\\u5361\\\\u00B7\\\\u4FDD\\\\u7F85\\\\u00B7\\\\u9676\\\\u5FB7\\\\u66FC\\\\uFF08\\\\u5FB7\\\\u8BED\\\\uFF1AOskar Paul Trautmann\\\\uFF0C1877\\\\u5E745\\\\u67087\\\\u65E5\\\\uFF0D1950\\\\u5E7412\\\\u670810\\\\u65E5\\\\uFF09\\\\uFF0C\\\\u5FB7\\\\u570B\\\\u5916\\\\u4EA4\\\\u5B98\\\\uFF0C1877\\\\u5E745\\\\u67087\\\\u65E5\\\\u51FA\\\\u751F\\\\u65BC\\\\u5FB7\\\\u570B\\\\u5C0F\\\\u57CE\\\\u53F8\\\\u7279\\\\u62C9\\\\u591A\\\\uFF08Stradow\\\\uFF09\\\\uFF0C1935\\\\u5E74\\\\uFF5E1938\\\\u5E74\\\\u4EFB\\\\u5FB7\\\\u570B\\\\u99D0\\\\u83EF\\\\u5927\\\\u4F7F\\\\uFF0C\\\\u66FE\\\\u5728\\\\u4E2D\\\\u65E5\\\\u6230\\\\u722D\\\\u521D\\\\u671F\\\\u5C45\\\\u4E2D\\\\u8ABF\\\\u505C\\\\u3002\"@zh .\\n<http://dbpedia.org/resource/Oskar_Trautmann> <http://xmlns.com/foaf/0.1/gender> \"male\"@en .\\n<http://dbpedia.org/resource/Oskar_Trautmann> <http://purl.org/dc/terms/subject> <http://dbpedia.org/resource/Category:Ambassadors_of_Germany_to_China> .\\n<http://dbpedia.org/resource/Oskar_Trautmann> <http://purl.org/dc/terms/description> \"German diplomat\"@en .\\n<http://dbpedia.org/resource/Oskar_Trautmann> <http://www.w3.org/1999/02/22-rdf-syntax-ns#type> <http://dbpedia.org/class/yago/WikicatPeopleAssociatedWithTheHaguePeaceConferences> .\\n<http://en.wikipedia.org/wiki/Oskar_Trautmann> <http://xmlns.com/foaf/0.1/primaryTopic> <http://dbpedia.org/resource/Oskar_Trautmann> .\\n<http://dbpedia.org/resource/Oskar_Trautmann> <http://purl.org/dc/terms/subject> <http://dbpedia.org/resource/Category:Delegates_to_the_Hague_Peace_Conferences> .\\n<http://dbpedia.org/resource/Oskar_Trautmann> <http://www.w3.org/1999/02/22-rdf-syntax-ns#type> <http://dbpedia.org/ontology/Person> .\\n<http://dbpedia.org/resource/Oskar_Trautmann> <http://www.w3.org/ns/prov#wasDerivedFrom> <http://en.wikipedia.org/wiki/Oskar_Trautmann?oldid=717938569> .\\n<http://dbpedia.org/resource/Oskar_Trautmann> <http://dbpedia.org/ontology/birthDate> \"1877-01-01\"^^<http://www.w3.org/2001/XMLSchema#date> .\\n<http://dbpedia.org/resource/Oskar_Trautmann> <http://dbpedia.org/ontology/wikiPageExternalLink> <http://libweb.hawaii.edu/libdept/russian/XX/PDF/2-Volume1.pdf> .\\n<http://dbpedia.org/resource/Oskar_Trautmann> <http://purl.org/dc/terms/subject> <http://dbpedia.org/resource/Category:1877_births> .\\n<http://dbpedia.org/resource/Oskar_Trautmann> <http://purl.org/linguistics/gold/hypernym> <http://dbpedia.org/resource/Diplomat> .\\n<http://dbpedia.org/resource/Oskar_Trautmann> <http://www.w3.org/2002/07/owl#sameAs> <http://ja.dbpedia.org/resource/\\\\u30AA\\\\u30B9\\\\u30AB\\\\u30FC\\\\u30FB\\\\u30C8\\\\u30E9\\\\u30A6\\\\u30C8\\\\u30DE\\\\u30F3> .\\n<http://dbpedia.org/resource/Oskar_Trautmann> <http://www.w3.org/2002/07/owl#sameAs> <http://d-nb.info/gnd/133639274> .\\n<http://dbpedia.org/resource/Oskar_Trautmann> <http://www.w3.org/2000/01/rdf-schema#comment> \"Oskar Paul Trautmann (* 7. Mai 1877 in Stradow; \\\\u2020 10. Dezember 1950 in Schlichow) war ein deutscher Diplomat.\"@de .\\n<http://dbpedia.org/resource/Oskar_Trautmann> <http://www.w3.org/2002/07/owl#sameAs> <http://de.dbpedia.org/resource/Oskar_Trautmann> .\\n<http://dbpedia.org/resource/Oskar_Trautmann> <http://purl.org/dc/terms/subject> <http://dbpedia.org/resource/Category:1950_deaths> .\\n<http://dbpedia.org/resource/Oskar_Trautmann> <http://www.w3.org/1999/02/22-rdf-syntax-ns#type> <http://dbpedia.org/class/yago/Object100002684> .\\n<http://dbpedia.org/resource/Oskar_Trautmann> <http://www.w3.org/1999/02/22-rdf-syntax-ns#type> <http://dbpedia.org/class/yago/SkilledWorker110605985> .\\n<http://dbpedia.org/resource/Oskar_Trautmann> <http://www.w3.org/1999/02/22-rdf-syntax-ns#type> <http://dbpedia.org/class/yago/YagoLegalActor> .\\n<http://dbpedia.org/resource/Oskar_Trautmann> <http://www.w3.org/2000/01/rdf-schema#label> \"\\\\u9676\\\\u5FB7\\\\u66FC\"@zh .\\n<http://dbpedia.org/resource/Oskar_Trautmann> <http://www.w3.org/2000/01/rdf-schema#comment> \"Oskar Trautmann (7 May 1877 \\\\u2013 10 December 1950) was a German diplomat.\"@en .\\n<http://dbpedia.org/resource/Oskar_Trautmann> <http://dbpedia.org/ontology/abstract> \"\\\\u9676\\\\u5FB7\\\\u66FC\\\\uFF0C\\\\u5168\\\\u540D\\\\u70BA\\\\u5967\\\\u65AF\\\\u5361\\\\u00B7\\\\u4FDD\\\\u7F85\\\\u00B7\\\\u9676\\\\u5FB7\\\\u66FC\\\\uFF08\\\\u5FB7\\\\u8BED\\\\uFF1AOskar Paul Trautmann\\\\uFF0C1877\\\\u5E745\\\\u67087\\\\u65E5\\\\uFF0D1950\\\\u5E7412\\\\u670810\\\\u65E5\\\\uFF09\\\\uFF0C\\\\u5FB7\\\\u570B\\\\u5916\\\\u4EA4\\\\u5B98\\\\uFF0C1877\\\\u5E745\\\\u67087\\\\u65E5\\\\u51FA\\\\u751F\\\\u65BC\\\\u5FB7\\\\u570B\\\\u5C0F\\\\u57CE\\\\u53F8\\\\u7279\\\\u62C9\\\\u591A\\\\uFF08Stradow\\\\uFF09\\\\uFF0C1935\\\\u5E74\\\\uFF5E1938\\\\u5E74\\\\u4EFB\\\\u5FB7\\\\u570B\\\\u99D0\\\\u83EF\\\\u5927\\\\u4F7F\\\\uFF0C\\\\u66FE\\\\u5728\\\\u4E2D\\\\u65E5\\\\u6230\\\\u722D\\\\u521D\\\\u671F\\\\u5C45\\\\u4E2D\\\\u8ABF\\\\u505C\\\\u3002\"@zh .\\n<http://dbpedia.org/resource/Oskar_Trautmann> <http://xmlns.com/foaf/0.1/surname> \"Trautmann\"@en .\\n<http://dbpedia.org/resource/Oskar_Trautmann> <http://www.w3.org/1999/02/22-rdf-syntax-ns#type> <http://dbpedia.org/class/yago/Person100007846> .\\n<http://dbpedia.org/resource/Oskar_Trautmann> <http://www.w3.org/1999/02/22-rdf-syntax-ns#type> <http://dbpedia.org/class/yago/Ambassador109787534> .\\n<http://dbpedia.org/resource/Oskar_Trautmann> <http://www.w3.org/2000/01/rdf-schema#label> \"\\\\u30AA\\\\u30B9\\\\u30AB\\\\u30FC\\\\u30FB\\\\u30C8\\\\u30E9\\\\u30A6\\\\u30C8\\\\u30DE\\\\u30F3\"@ja .\\n<http://dbpedia.org/resource/Oskar_Trautmann> <http://www.w3.org/2000/01/rdf-schema#comment> \"\\\\u30AA\\\\u30B9\\\\u30AB\\\\u30FC\\\\u30FB\\\\u30C8\\\\u30E9\\\\u30A6\\\\u30C8\\\\u30DE\\\\u30F3\\\\uFF08Oskar P. Trautmann, 1877\\\\u5E745\\\\u67087\\\\u65E5 \\\\u2013 1950\\\\u5E7412\\\\u670810\\\\u65E5\\\\uFF09\\\\u306F\\\\u3001\\\\u30C9\\\\u30A4\\\\u30C4\\\\u306E\\\\u5916\\\\u4EA4\\\\u5B98\\\\u3002\\\\u65E5\\\\u4E2D\\\\u6226\\\\u4E89\\\\u306E\\\\u548C\\\\u5E73\\\\u4EA4\\\\u6E09\\\\u3092\\\\u4EF2\\\\u4ECB\\\\u3057\\\\u305F\\\\u30C8\\\\u30E9\\\\u30A6\\\\u30C8\\\\u30DE\\\\u30F3\\\\u548C\\\\u5E73\\\\u5DE5\\\\u4F5C\\\\u3067\\\\u77E5\\\\u3089\\\\u308C\\\\u308B\\\\u3002\"@ja .\\n<http://dbpedia.org/resource/Oskar_Trautmann> <http://www.w3.org/1999/02/22-rdf-syntax-ns#type> <http://dbpedia.org/class/yago/LivingThing100004258> .\\n<http://dbpedia.org/resource/Oskar_Trautmann> <http://www.w3.org/1999/02/22-rdf-syntax-ns#type> <http://dbpedia.org/class/yago/YagoLegalActorGeo> .\\n<http://dbpedia.org/resource/Oskar_Trautmann> <http://www.w3.org/2002/07/owl#sameAs> <http://rdf.freebase.com/ns/m.0bhccxv> .\\n<http://dbpedia.org/resource/Oskar_Trautmann> <http://www.w3.org/2002/07/owl#sameAs> <http://www.wikidata.org/entity/Q9031042> .\\n<http://dbpedia.org/resource/Oskar_Trautmann> <http://www.w3.org/1999/02/22-rdf-syntax-ns#type> <http://dbpedia.org/class/yago/WikicatGermanDiplomats> .\\n<http://dbpedia.org/resource/Oskar_Trautmann> <http://dbpedia.org/ontology/wikiPageExternalLink> <http://www.bundesarchiv.de/aktenreichskanzlei/1919-1933/0000/adr/adrsz/kap1_2/para2_87.html> .\\n<http://dbpedia.org/resource/Oskar_Trautmann> <http://www.w3.org/1999/02/22-rdf-syntax-ns#type> <http://dbpedia.org/class/yago/Diplomat110013927> .\\n<http://dbpedia.org/resource/Oskar_Trautmann> <http://www.w3.org/1999/02/22-rdf-syntax-ns#type> <http://dbpedia.org/class/yago/Organism100004475> .\\n\\n'"
      ]
     },
     "execution_count": 10,
     "metadata": {},
     "output_type": "execute_result"
    }
   ],
   "source": [
    "neuedaten"
   ]
  },
  {
   "cell_type": "code",
   "execution_count": 11,
   "metadata": {},
   "outputs": [
    {
     "data": {
      "text/plain": [
       "<SPARQLWrapper.Wrapper.QueryResult at 0x7f7673df01c0>"
      ]
     },
     "execution_count": 11,
     "metadata": {},
     "output_type": "execute_result"
    }
   ],
   "source": [
    "insert(neuedaten, prefixes)\n",
    "\n",
    "# insert(\"\"\"<http://example.org/data/5> dc:creator h:Kai2 \"\"\")\n",
    "# insert(triple(\"h:example.org/data/4\", \"dc:title\", literal(\"Cool Stuff\", \"en\")))\n",
    "# insert(triple(\"h:example.org/data/4\", a, \"skos:Concept\"))\n",
    "# print(triple(\"h:example.org/data/4\", \"dc:title\", literal(\"Cool Stuff\", \"en\")))\n",
    "# print(expand(\"dc:creator\"))\n",
    "# print(expand(\"Hello World\"))\n",
    "# print(expand(literal(\"Hello World\", \"en\")))\n",
    "# print(expand(\"http://www.example.org\"))\n",
    "\n",
    "\n",
    "\n",
    "# r = select(\"?s ?p ?o\", \"?s ?p ?o\", prefixes, 30)\n",
    "# for s, p, o in getValues(r, \"?s\", \"?p\", \"?o\"):\n",
    "#    print(s, p, o)"
   ]
  },
  {
   "cell_type": "code",
   "execution_count": 12,
   "metadata": {},
   "outputs": [
    {
     "ename": "URLError",
     "evalue": "<urlopen error [Errno 113] No route to host>",
     "output_type": "error",
     "traceback": [
      "\u001b[0;31m-------------------------------------------------------------------------\u001b[0m",
      "\u001b[0;31mOSError\u001b[0m                                 Traceback (most recent call last)",
      "\u001b[0;32m~/.pyenv/versions/3.8.0/lib/python3.8/urllib/request.py\u001b[0m in \u001b[0;36mdo_open\u001b[0;34m(self, http_class, req, **http_conn_args)\u001b[0m\n\u001b[1;32m   1316\u001b[0m             \u001b[0;32mtry\u001b[0m\u001b[0;34m:\u001b[0m\u001b[0;34m\u001b[0m\u001b[0;34m\u001b[0m\u001b[0m\n\u001b[0;32m-> 1317\u001b[0;31m                 h.request(req.get_method(), req.selector, req.data, headers,\n\u001b[0m\u001b[1;32m   1318\u001b[0m                           encode_chunked=req.has_header('Transfer-encoding'))\n",
      "\u001b[0;32m~/.pyenv/versions/3.8.0/lib/python3.8/http/client.py\u001b[0m in \u001b[0;36mrequest\u001b[0;34m(self, method, url, body, headers, encode_chunked)\u001b[0m\n\u001b[1;32m   1229\u001b[0m         \u001b[0;34m\"\"\"Send a complete request to the server.\"\"\"\u001b[0m\u001b[0;34m\u001b[0m\u001b[0;34m\u001b[0m\u001b[0m\n\u001b[0;32m-> 1230\u001b[0;31m         \u001b[0mself\u001b[0m\u001b[0;34m.\u001b[0m\u001b[0m_send_request\u001b[0m\u001b[0;34m(\u001b[0m\u001b[0mmethod\u001b[0m\u001b[0;34m,\u001b[0m \u001b[0murl\u001b[0m\u001b[0;34m,\u001b[0m \u001b[0mbody\u001b[0m\u001b[0;34m,\u001b[0m \u001b[0mheaders\u001b[0m\u001b[0;34m,\u001b[0m \u001b[0mencode_chunked\u001b[0m\u001b[0;34m)\u001b[0m\u001b[0;34m\u001b[0m\u001b[0;34m\u001b[0m\u001b[0m\n\u001b[0m\u001b[1;32m   1231\u001b[0m \u001b[0;34m\u001b[0m\u001b[0m\n",
      "\u001b[0;32m~/.pyenv/versions/3.8.0/lib/python3.8/http/client.py\u001b[0m in \u001b[0;36m_send_request\u001b[0;34m(self, method, url, body, headers, encode_chunked)\u001b[0m\n\u001b[1;32m   1275\u001b[0m             \u001b[0mbody\u001b[0m \u001b[0;34m=\u001b[0m \u001b[0m_encode\u001b[0m\u001b[0;34m(\u001b[0m\u001b[0mbody\u001b[0m\u001b[0;34m,\u001b[0m \u001b[0;34m'body'\u001b[0m\u001b[0;34m)\u001b[0m\u001b[0;34m\u001b[0m\u001b[0;34m\u001b[0m\u001b[0m\n\u001b[0;32m-> 1276\u001b[0;31m         \u001b[0mself\u001b[0m\u001b[0;34m.\u001b[0m\u001b[0mendheaders\u001b[0m\u001b[0;34m(\u001b[0m\u001b[0mbody\u001b[0m\u001b[0;34m,\u001b[0m \u001b[0mencode_chunked\u001b[0m\u001b[0;34m=\u001b[0m\u001b[0mencode_chunked\u001b[0m\u001b[0;34m)\u001b[0m\u001b[0;34m\u001b[0m\u001b[0;34m\u001b[0m\u001b[0m\n\u001b[0m\u001b[1;32m   1277\u001b[0m \u001b[0;34m\u001b[0m\u001b[0m\n",
      "\u001b[0;32m~/.pyenv/versions/3.8.0/lib/python3.8/http/client.py\u001b[0m in \u001b[0;36mendheaders\u001b[0;34m(self, message_body, encode_chunked)\u001b[0m\n\u001b[1;32m   1224\u001b[0m             \u001b[0;32mraise\u001b[0m \u001b[0mCannotSendHeader\u001b[0m\u001b[0;34m(\u001b[0m\u001b[0;34m)\u001b[0m\u001b[0;34m\u001b[0m\u001b[0;34m\u001b[0m\u001b[0m\n\u001b[0;32m-> 1225\u001b[0;31m         \u001b[0mself\u001b[0m\u001b[0;34m.\u001b[0m\u001b[0m_send_output\u001b[0m\u001b[0;34m(\u001b[0m\u001b[0mmessage_body\u001b[0m\u001b[0;34m,\u001b[0m \u001b[0mencode_chunked\u001b[0m\u001b[0;34m=\u001b[0m\u001b[0mencode_chunked\u001b[0m\u001b[0;34m)\u001b[0m\u001b[0;34m\u001b[0m\u001b[0;34m\u001b[0m\u001b[0m\n\u001b[0m\u001b[1;32m   1226\u001b[0m \u001b[0;34m\u001b[0m\u001b[0m\n",
      "\u001b[0;32m~/.pyenv/versions/3.8.0/lib/python3.8/http/client.py\u001b[0m in \u001b[0;36m_send_output\u001b[0;34m(self, message_body, encode_chunked)\u001b[0m\n\u001b[1;32m   1003\u001b[0m         \u001b[0;32mdel\u001b[0m \u001b[0mself\u001b[0m\u001b[0;34m.\u001b[0m\u001b[0m_buffer\u001b[0m\u001b[0;34m[\u001b[0m\u001b[0;34m:\u001b[0m\u001b[0;34m]\u001b[0m\u001b[0;34m\u001b[0m\u001b[0;34m\u001b[0m\u001b[0m\n\u001b[0;32m-> 1004\u001b[0;31m         \u001b[0mself\u001b[0m\u001b[0;34m.\u001b[0m\u001b[0msend\u001b[0m\u001b[0;34m(\u001b[0m\u001b[0mmsg\u001b[0m\u001b[0;34m)\u001b[0m\u001b[0;34m\u001b[0m\u001b[0;34m\u001b[0m\u001b[0m\n\u001b[0m\u001b[1;32m   1005\u001b[0m \u001b[0;34m\u001b[0m\u001b[0m\n",
      "\u001b[0;32m~/.pyenv/versions/3.8.0/lib/python3.8/http/client.py\u001b[0m in \u001b[0;36msend\u001b[0;34m(self, data)\u001b[0m\n\u001b[1;32m    943\u001b[0m             \u001b[0;32mif\u001b[0m \u001b[0mself\u001b[0m\u001b[0;34m.\u001b[0m\u001b[0mauto_open\u001b[0m\u001b[0;34m:\u001b[0m\u001b[0;34m\u001b[0m\u001b[0;34m\u001b[0m\u001b[0m\n\u001b[0;32m--> 944\u001b[0;31m                 \u001b[0mself\u001b[0m\u001b[0;34m.\u001b[0m\u001b[0mconnect\u001b[0m\u001b[0;34m(\u001b[0m\u001b[0;34m)\u001b[0m\u001b[0;34m\u001b[0m\u001b[0;34m\u001b[0m\u001b[0m\n\u001b[0m\u001b[1;32m    945\u001b[0m             \u001b[0;32melse\u001b[0m\u001b[0;34m:\u001b[0m\u001b[0;34m\u001b[0m\u001b[0;34m\u001b[0m\u001b[0m\n",
      "\u001b[0;32m~/.pyenv/versions/3.8.0/lib/python3.8/http/client.py\u001b[0m in \u001b[0;36mconnect\u001b[0;34m(self)\u001b[0m\n\u001b[1;32m    914\u001b[0m         \u001b[0;34m\"\"\"Connect to the host and port specified in __init__.\"\"\"\u001b[0m\u001b[0;34m\u001b[0m\u001b[0;34m\u001b[0m\u001b[0m\n\u001b[0;32m--> 915\u001b[0;31m         self.sock = self._create_connection(\n\u001b[0m\u001b[1;32m    916\u001b[0m             (self.host,self.port), self.timeout, self.source_address)\n",
      "\u001b[0;32m~/.pyenv/versions/3.8.0/lib/python3.8/socket.py\u001b[0m in \u001b[0;36mcreate_connection\u001b[0;34m(address, timeout, source_address)\u001b[0m\n\u001b[1;32m    806\u001b[0m     \u001b[0;32mif\u001b[0m \u001b[0merr\u001b[0m \u001b[0;32mis\u001b[0m \u001b[0;32mnot\u001b[0m \u001b[0;32mNone\u001b[0m\u001b[0;34m:\u001b[0m\u001b[0;34m\u001b[0m\u001b[0;34m\u001b[0m\u001b[0m\n\u001b[0;32m--> 807\u001b[0;31m         \u001b[0;32mraise\u001b[0m \u001b[0merr\u001b[0m\u001b[0;34m\u001b[0m\u001b[0;34m\u001b[0m\u001b[0m\n\u001b[0m\u001b[1;32m    808\u001b[0m     \u001b[0;32melse\u001b[0m\u001b[0;34m:\u001b[0m\u001b[0;34m\u001b[0m\u001b[0;34m\u001b[0m\u001b[0m\n",
      "\u001b[0;32m~/.pyenv/versions/3.8.0/lib/python3.8/socket.py\u001b[0m in \u001b[0;36mcreate_connection\u001b[0;34m(address, timeout, source_address)\u001b[0m\n\u001b[1;32m    795\u001b[0m                 \u001b[0msock\u001b[0m\u001b[0;34m.\u001b[0m\u001b[0mbind\u001b[0m\u001b[0;34m(\u001b[0m\u001b[0msource_address\u001b[0m\u001b[0;34m)\u001b[0m\u001b[0;34m\u001b[0m\u001b[0;34m\u001b[0m\u001b[0m\n\u001b[0;32m--> 796\u001b[0;31m             \u001b[0msock\u001b[0m\u001b[0;34m.\u001b[0m\u001b[0mconnect\u001b[0m\u001b[0;34m(\u001b[0m\u001b[0msa\u001b[0m\u001b[0;34m)\u001b[0m\u001b[0;34m\u001b[0m\u001b[0;34m\u001b[0m\u001b[0m\n\u001b[0m\u001b[1;32m    797\u001b[0m             \u001b[0;31m# Break explicitly a reference cycle\u001b[0m\u001b[0;34m\u001b[0m\u001b[0;34m\u001b[0m\u001b[0;34m\u001b[0m\u001b[0m\n",
      "\u001b[0;31mOSError\u001b[0m: [Errno 113] No route to host",
      "\nDuring handling of the above exception, another exception occurred:\n",
      "\u001b[0;31mURLError\u001b[0m                                Traceback (most recent call last)",
      "\u001b[0;32m<ipython-input-12-e542c687d465>\u001b[0m in \u001b[0;36m<module>\u001b[0;34m\u001b[0m\n\u001b[1;32m      1\u001b[0m \u001b[0mg\u001b[0m \u001b[0;34m=\u001b[0m \u001b[0mrdflib\u001b[0m\u001b[0;34m.\u001b[0m\u001b[0mGraph\u001b[0m\u001b[0;34m(\u001b[0m\u001b[0;34m)\u001b[0m\u001b[0;34m\u001b[0m\u001b[0;34m\u001b[0m\u001b[0m\n\u001b[0;32m----> 2\u001b[0;31m \u001b[0mg\u001b[0m\u001b[0;34m.\u001b[0m\u001b[0mparse\u001b[0m\u001b[0;34m(\u001b[0m\u001b[0;34m'http://mediagraph.link/vndb/characters/33'\u001b[0m\u001b[0;34m)\u001b[0m\u001b[0;34m\u001b[0m\u001b[0;34m\u001b[0m\u001b[0m\n\u001b[0m",
      "\u001b[0;32m~/.pyenv/versions/3.8.0/envs/jupy/lib/python3.8/site-packages/rdflib/graph.py\u001b[0m in \u001b[0;36mparse\u001b[0;34m(self, source, publicID, format, location, file, data, **args)\u001b[0m\n\u001b[1;32m   1030\u001b[0m         \"\"\"\n\u001b[1;32m   1031\u001b[0m \u001b[0;34m\u001b[0m\u001b[0m\n\u001b[0;32m-> 1032\u001b[0;31m         source = create_input_source(source=source, publicID=publicID,\n\u001b[0m\u001b[1;32m   1033\u001b[0m                                      \u001b[0mlocation\u001b[0m\u001b[0;34m=\u001b[0m\u001b[0mlocation\u001b[0m\u001b[0;34m,\u001b[0m \u001b[0mfile\u001b[0m\u001b[0;34m=\u001b[0m\u001b[0mfile\u001b[0m\u001b[0;34m,\u001b[0m\u001b[0;34m\u001b[0m\u001b[0;34m\u001b[0m\u001b[0m\n\u001b[1;32m   1034\u001b[0m                                      data=data, format=format)\n",
      "\u001b[0;32m~/.pyenv/versions/3.8.0/envs/jupy/lib/python3.8/site-packages/rdflib/parser.py\u001b[0m in \u001b[0;36mcreate_input_source\u001b[0;34m(source, publicID, location, file, data, format)\u001b[0m\n\u001b[1;32m    184\u001b[0m             \u001b[0mfile\u001b[0m \u001b[0;34m=\u001b[0m \u001b[0mopen\u001b[0m\u001b[0;34m(\u001b[0m\u001b[0mfilename\u001b[0m\u001b[0;34m,\u001b[0m \u001b[0;34m\"rb\"\u001b[0m\u001b[0;34m)\u001b[0m\u001b[0;34m\u001b[0m\u001b[0;34m\u001b[0m\u001b[0m\n\u001b[1;32m    185\u001b[0m         \u001b[0;32melse\u001b[0m\u001b[0;34m:\u001b[0m\u001b[0;34m\u001b[0m\u001b[0;34m\u001b[0m\u001b[0m\n\u001b[0;32m--> 186\u001b[0;31m             \u001b[0minput_source\u001b[0m \u001b[0;34m=\u001b[0m \u001b[0mURLInputSource\u001b[0m\u001b[0;34m(\u001b[0m\u001b[0mabsolute_location\u001b[0m\u001b[0;34m,\u001b[0m \u001b[0mformat\u001b[0m\u001b[0;34m)\u001b[0m\u001b[0;34m\u001b[0m\u001b[0;34m\u001b[0m\u001b[0m\n\u001b[0m\u001b[1;32m    187\u001b[0m         \u001b[0mauto_close\u001b[0m \u001b[0;34m=\u001b[0m \u001b[0;32mTrue\u001b[0m\u001b[0;34m\u001b[0m\u001b[0;34m\u001b[0m\u001b[0m\n\u001b[1;32m    188\u001b[0m         \u001b[0;31m# publicID = publicID or absolute_location  # Further to fix\u001b[0m\u001b[0;34m\u001b[0m\u001b[0;34m\u001b[0m\u001b[0;34m\u001b[0m\u001b[0m\n",
      "\u001b[0;32m~/.pyenv/versions/3.8.0/envs/jupy/lib/python3.8/site-packages/rdflib/parser.py\u001b[0m in \u001b[0;36m__init__\u001b[0;34m(self, system_id, format)\u001b[0m\n\u001b[1;32m    104\u001b[0m \u001b[0;34m\u001b[0m\u001b[0m\n\u001b[1;32m    105\u001b[0m         \u001b[0mreq\u001b[0m \u001b[0;34m=\u001b[0m \u001b[0mRequest\u001b[0m\u001b[0;34m(\u001b[0m\u001b[0msystem_id\u001b[0m\u001b[0;34m,\u001b[0m \u001b[0;32mNone\u001b[0m\u001b[0;34m,\u001b[0m \u001b[0mmyheaders\u001b[0m\u001b[0;34m)\u001b[0m\u001b[0;34m\u001b[0m\u001b[0;34m\u001b[0m\u001b[0m\n\u001b[0;32m--> 106\u001b[0;31m         \u001b[0mfile\u001b[0m \u001b[0;34m=\u001b[0m \u001b[0murlopen\u001b[0m\u001b[0;34m(\u001b[0m\u001b[0mreq\u001b[0m\u001b[0;34m)\u001b[0m\u001b[0;34m\u001b[0m\u001b[0;34m\u001b[0m\u001b[0m\n\u001b[0m\u001b[1;32m    107\u001b[0m         \u001b[0;31m# Fix for issue 130 https://github.com/RDFLib/rdflib/issues/130\u001b[0m\u001b[0;34m\u001b[0m\u001b[0;34m\u001b[0m\u001b[0;34m\u001b[0m\u001b[0m\n\u001b[1;32m    108\u001b[0m         \u001b[0mself\u001b[0m\u001b[0;34m.\u001b[0m\u001b[0murl\u001b[0m \u001b[0;34m=\u001b[0m \u001b[0mfile\u001b[0m\u001b[0;34m.\u001b[0m\u001b[0mgeturl\u001b[0m\u001b[0;34m(\u001b[0m\u001b[0;34m)\u001b[0m    \u001b[0;31m# in case redirections took place\u001b[0m\u001b[0;34m\u001b[0m\u001b[0;34m\u001b[0m\u001b[0m\n",
      "\u001b[0;32m~/.pyenv/versions/3.8.0/lib/python3.8/urllib/request.py\u001b[0m in \u001b[0;36murlopen\u001b[0;34m(url, data, timeout, cafile, capath, cadefault, context)\u001b[0m\n\u001b[1;32m    220\u001b[0m     \u001b[0;32melse\u001b[0m\u001b[0;34m:\u001b[0m\u001b[0;34m\u001b[0m\u001b[0;34m\u001b[0m\u001b[0m\n\u001b[1;32m    221\u001b[0m         \u001b[0mopener\u001b[0m \u001b[0;34m=\u001b[0m \u001b[0m_opener\u001b[0m\u001b[0;34m\u001b[0m\u001b[0;34m\u001b[0m\u001b[0m\n\u001b[0;32m--> 222\u001b[0;31m     \u001b[0;32mreturn\u001b[0m \u001b[0mopener\u001b[0m\u001b[0;34m.\u001b[0m\u001b[0mopen\u001b[0m\u001b[0;34m(\u001b[0m\u001b[0murl\u001b[0m\u001b[0;34m,\u001b[0m \u001b[0mdata\u001b[0m\u001b[0;34m,\u001b[0m \u001b[0mtimeout\u001b[0m\u001b[0;34m)\u001b[0m\u001b[0;34m\u001b[0m\u001b[0;34m\u001b[0m\u001b[0m\n\u001b[0m\u001b[1;32m    223\u001b[0m \u001b[0;34m\u001b[0m\u001b[0m\n\u001b[1;32m    224\u001b[0m \u001b[0;32mdef\u001b[0m \u001b[0minstall_opener\u001b[0m\u001b[0;34m(\u001b[0m\u001b[0mopener\u001b[0m\u001b[0;34m)\u001b[0m\u001b[0;34m:\u001b[0m\u001b[0;34m\u001b[0m\u001b[0;34m\u001b[0m\u001b[0m\n",
      "\u001b[0;32m~/.pyenv/versions/3.8.0/lib/python3.8/urllib/request.py\u001b[0m in \u001b[0;36mopen\u001b[0;34m(self, fullurl, data, timeout)\u001b[0m\n\u001b[1;32m    523\u001b[0m \u001b[0;34m\u001b[0m\u001b[0m\n\u001b[1;32m    524\u001b[0m         \u001b[0msys\u001b[0m\u001b[0;34m.\u001b[0m\u001b[0maudit\u001b[0m\u001b[0;34m(\u001b[0m\u001b[0;34m'urllib.Request'\u001b[0m\u001b[0;34m,\u001b[0m \u001b[0mreq\u001b[0m\u001b[0;34m.\u001b[0m\u001b[0mfull_url\u001b[0m\u001b[0;34m,\u001b[0m \u001b[0mreq\u001b[0m\u001b[0;34m.\u001b[0m\u001b[0mdata\u001b[0m\u001b[0;34m,\u001b[0m \u001b[0mreq\u001b[0m\u001b[0;34m.\u001b[0m\u001b[0mheaders\u001b[0m\u001b[0;34m,\u001b[0m \u001b[0mreq\u001b[0m\u001b[0;34m.\u001b[0m\u001b[0mget_method\u001b[0m\u001b[0;34m(\u001b[0m\u001b[0;34m)\u001b[0m\u001b[0;34m)\u001b[0m\u001b[0;34m\u001b[0m\u001b[0;34m\u001b[0m\u001b[0m\n\u001b[0;32m--> 525\u001b[0;31m         \u001b[0mresponse\u001b[0m \u001b[0;34m=\u001b[0m \u001b[0mself\u001b[0m\u001b[0;34m.\u001b[0m\u001b[0m_open\u001b[0m\u001b[0;34m(\u001b[0m\u001b[0mreq\u001b[0m\u001b[0;34m,\u001b[0m \u001b[0mdata\u001b[0m\u001b[0;34m)\u001b[0m\u001b[0;34m\u001b[0m\u001b[0;34m\u001b[0m\u001b[0m\n\u001b[0m\u001b[1;32m    526\u001b[0m \u001b[0;34m\u001b[0m\u001b[0m\n\u001b[1;32m    527\u001b[0m         \u001b[0;31m# post-process response\u001b[0m\u001b[0;34m\u001b[0m\u001b[0;34m\u001b[0m\u001b[0;34m\u001b[0m\u001b[0m\n",
      "\u001b[0;32m~/.pyenv/versions/3.8.0/lib/python3.8/urllib/request.py\u001b[0m in \u001b[0;36m_open\u001b[0;34m(self, req, data)\u001b[0m\n\u001b[1;32m    540\u001b[0m \u001b[0;34m\u001b[0m\u001b[0m\n\u001b[1;32m    541\u001b[0m         \u001b[0mprotocol\u001b[0m \u001b[0;34m=\u001b[0m \u001b[0mreq\u001b[0m\u001b[0;34m.\u001b[0m\u001b[0mtype\u001b[0m\u001b[0;34m\u001b[0m\u001b[0;34m\u001b[0m\u001b[0m\n\u001b[0;32m--> 542\u001b[0;31m         result = self._call_chain(self.handle_open, protocol, protocol +\n\u001b[0m\u001b[1;32m    543\u001b[0m                                   '_open', req)\n\u001b[1;32m    544\u001b[0m         \u001b[0;32mif\u001b[0m \u001b[0mresult\u001b[0m\u001b[0;34m:\u001b[0m\u001b[0;34m\u001b[0m\u001b[0;34m\u001b[0m\u001b[0m\n",
      "\u001b[0;32m~/.pyenv/versions/3.8.0/lib/python3.8/urllib/request.py\u001b[0m in \u001b[0;36m_call_chain\u001b[0;34m(self, chain, kind, meth_name, *args)\u001b[0m\n\u001b[1;32m    500\u001b[0m         \u001b[0;32mfor\u001b[0m \u001b[0mhandler\u001b[0m \u001b[0;32min\u001b[0m \u001b[0mhandlers\u001b[0m\u001b[0;34m:\u001b[0m\u001b[0;34m\u001b[0m\u001b[0;34m\u001b[0m\u001b[0m\n\u001b[1;32m    501\u001b[0m             \u001b[0mfunc\u001b[0m \u001b[0;34m=\u001b[0m \u001b[0mgetattr\u001b[0m\u001b[0;34m(\u001b[0m\u001b[0mhandler\u001b[0m\u001b[0;34m,\u001b[0m \u001b[0mmeth_name\u001b[0m\u001b[0;34m)\u001b[0m\u001b[0;34m\u001b[0m\u001b[0;34m\u001b[0m\u001b[0m\n\u001b[0;32m--> 502\u001b[0;31m             \u001b[0mresult\u001b[0m \u001b[0;34m=\u001b[0m \u001b[0mfunc\u001b[0m\u001b[0;34m(\u001b[0m\u001b[0;34m*\u001b[0m\u001b[0margs\u001b[0m\u001b[0;34m)\u001b[0m\u001b[0;34m\u001b[0m\u001b[0;34m\u001b[0m\u001b[0m\n\u001b[0m\u001b[1;32m    503\u001b[0m             \u001b[0;32mif\u001b[0m \u001b[0mresult\u001b[0m \u001b[0;32mis\u001b[0m \u001b[0;32mnot\u001b[0m \u001b[0;32mNone\u001b[0m\u001b[0;34m:\u001b[0m\u001b[0;34m\u001b[0m\u001b[0;34m\u001b[0m\u001b[0m\n\u001b[1;32m    504\u001b[0m                 \u001b[0;32mreturn\u001b[0m \u001b[0mresult\u001b[0m\u001b[0;34m\u001b[0m\u001b[0;34m\u001b[0m\u001b[0m\n",
      "\u001b[0;32m~/.pyenv/versions/3.8.0/lib/python3.8/urllib/request.py\u001b[0m in \u001b[0;36mhttp_open\u001b[0;34m(self, req)\u001b[0m\n\u001b[1;32m   1344\u001b[0m \u001b[0;34m\u001b[0m\u001b[0m\n\u001b[1;32m   1345\u001b[0m     \u001b[0;32mdef\u001b[0m \u001b[0mhttp_open\u001b[0m\u001b[0;34m(\u001b[0m\u001b[0mself\u001b[0m\u001b[0;34m,\u001b[0m \u001b[0mreq\u001b[0m\u001b[0;34m)\u001b[0m\u001b[0;34m:\u001b[0m\u001b[0;34m\u001b[0m\u001b[0;34m\u001b[0m\u001b[0m\n\u001b[0;32m-> 1346\u001b[0;31m         \u001b[0;32mreturn\u001b[0m \u001b[0mself\u001b[0m\u001b[0;34m.\u001b[0m\u001b[0mdo_open\u001b[0m\u001b[0;34m(\u001b[0m\u001b[0mhttp\u001b[0m\u001b[0;34m.\u001b[0m\u001b[0mclient\u001b[0m\u001b[0;34m.\u001b[0m\u001b[0mHTTPConnection\u001b[0m\u001b[0;34m,\u001b[0m \u001b[0mreq\u001b[0m\u001b[0;34m)\u001b[0m\u001b[0;34m\u001b[0m\u001b[0;34m\u001b[0m\u001b[0m\n\u001b[0m\u001b[1;32m   1347\u001b[0m \u001b[0;34m\u001b[0m\u001b[0m\n\u001b[1;32m   1348\u001b[0m     \u001b[0mhttp_request\u001b[0m \u001b[0;34m=\u001b[0m \u001b[0mAbstractHTTPHandler\u001b[0m\u001b[0;34m.\u001b[0m\u001b[0mdo_request_\u001b[0m\u001b[0;34m\u001b[0m\u001b[0;34m\u001b[0m\u001b[0m\n",
      "\u001b[0;32m~/.pyenv/versions/3.8.0/lib/python3.8/urllib/request.py\u001b[0m in \u001b[0;36mdo_open\u001b[0;34m(self, http_class, req, **http_conn_args)\u001b[0m\n\u001b[1;32m   1318\u001b[0m                           encode_chunked=req.has_header('Transfer-encoding'))\n\u001b[1;32m   1319\u001b[0m             \u001b[0;32mexcept\u001b[0m \u001b[0mOSError\u001b[0m \u001b[0;32mas\u001b[0m \u001b[0merr\u001b[0m\u001b[0;34m:\u001b[0m \u001b[0;31m# timeout error\u001b[0m\u001b[0;34m\u001b[0m\u001b[0;34m\u001b[0m\u001b[0m\n\u001b[0;32m-> 1320\u001b[0;31m                 \u001b[0;32mraise\u001b[0m \u001b[0mURLError\u001b[0m\u001b[0;34m(\u001b[0m\u001b[0merr\u001b[0m\u001b[0;34m)\u001b[0m\u001b[0;34m\u001b[0m\u001b[0;34m\u001b[0m\u001b[0m\n\u001b[0m\u001b[1;32m   1321\u001b[0m             \u001b[0mr\u001b[0m \u001b[0;34m=\u001b[0m \u001b[0mh\u001b[0m\u001b[0;34m.\u001b[0m\u001b[0mgetresponse\u001b[0m\u001b[0;34m(\u001b[0m\u001b[0;34m)\u001b[0m\u001b[0;34m\u001b[0m\u001b[0;34m\u001b[0m\u001b[0m\n\u001b[1;32m   1322\u001b[0m         \u001b[0;32mexcept\u001b[0m\u001b[0;34m:\u001b[0m\u001b[0;34m\u001b[0m\u001b[0;34m\u001b[0m\u001b[0m\n",
      "\u001b[0;31mURLError\u001b[0m: <urlopen error [Errno 113] No route to host>"
     ]
    }
   ],
   "source": [
    "g = rdflib.Graph()\n",
    "g.parse('http://mediagraph.link/vndb/characters/33')"
   ]
  },
  {
   "cell_type": "code",
   "execution_count": 8,
   "metadata": {},
   "outputs": [
    {
     "name": "stdout",
     "output_type": "stream",
     "text": [
      "(rdflib.term.URIRef('http://mediagraph.link/vndb/characters/33'), rdflib.term.URIRef('http://mediagraph.link/ont/vndb/characterTrait'), rdflib.term.Literal('Sandals (Shoes)'))\n",
      "(rdflib.term.URIRef('http://mediagraph.link/vndb/characters/33'), rdflib.term.URIRef('http://mediagraph.link/ont/vndb/characterTrait'), rdflib.term.Literal('Knight (Warrior)'))\n",
      "(rdflib.term.URIRef('http://mediagraph.link/vndb/characters/33'), rdflib.term.URIRef('http://mediagraph.link/ont/vndb/characterTrait'), rdflib.term.Literal('Spirit (Nature)'))\n",
      "(rdflib.term.URIRef('http://mediagraph.link/vndb/characters/54'), rdflib.term.URIRef('http://mediagraph.link/ont/vndb/otherInstance'), rdflib.term.URIRef('http://mediagraph.link/vndb/characters/33'))\n",
      "(rdflib.term.URIRef('http://mediagraph.link/vndb/characters/33'), rdflib.term.URIRef('http://mediagraph.link/ont/vndb/characterTrait'), rdflib.term.Literal('Loyal (Personality)'))\n",
      "(rdflib.term.URIRef('http://mediagraph.link/vndb/characters/33'), rdflib.term.URIRef('http://mediagraph.link/ont/vndb/characterTrait'), rdflib.term.Literal('Jeans (Trousers)'))\n",
      "(rdflib.term.URIRef('http://mediagraph.link/vndb/characters/33'), rdflib.term.URIRef('http://mediagraph.link/ont/vndb/characterTrait'), rdflib.term.Literal('Shinai (Practice Swords)'))\n",
      "(rdflib.term.URIRef('http://mediagraph.link/vndb/characters/33'), rdflib.term.URIRef('http://mediagraph.link/ont/vndb/waistSize'), rdflib.term.Literal('53'))\n",
      "(rdflib.term.URIRef('http://mediagraph.link/vndb/characters/33'), rdflib.term.URIRef('http://mediagraph.link/ont/vndb/characterTrait'), rdflib.term.Literal('Food Lover (Personality)'))\n",
      "(rdflib.term.URIRef('http://mediagraph.link/vndb/characters/33'), rdflib.term.URIRef('http://mediagraph.link/ont/vndb/characterName'), rdflib.term.Literal('Saber', lang='en'))\n",
      "(rdflib.term.URIRef('http://mediagraph.link/vndb/characters/33'), rdflib.term.URIRef('http://mediagraph.link/ont/vndb/characterTrait'), rdflib.term.Literal('Plate Armor (Armor)'))\n",
      "(rdflib.term.URIRef('http://mediagraph.link/vndb/characters/33'), rdflib.term.URIRef('http://mediagraph.link/ont/vndb/characterTrait'), rdflib.term.Literal('Brave (Personality)'))\n",
      "(rdflib.term.URIRef('http://mediagraph.link/vndb/characters/33'), rdflib.term.URIRef('http://mediagraph.link/ont/vndb/characterTrait'), rdflib.term.Literal('Long (Length)'))\n",
      "(rdflib.term.URIRef('http://mediagraph.link/vndb/characters/4443'), rdflib.term.URIRef('http://mediagraph.link/ont/vndb/otherInstance'), rdflib.term.URIRef('http://mediagraph.link/vndb/characters/33'))\n",
      "(rdflib.term.URIRef('http://mediagraph.link/vndb/characters/33'), rdflib.term.URIRef('http://mediagraph.link/ont/vndb/characterTrait'), rdflib.term.Literal('Fighting (Engages in)'))\n",
      "(rdflib.term.URIRef('http://mediagraph.link/vndb/characters/33'), rdflib.term.URIRef('http://mediagraph.link/ont/vndb/characterTrait'), rdflib.term.Literal('Pantyhose (Stockings)'))\n",
      "(rdflib.term.URIRef('http://mediagraph.link/vndb/characters/33'), rdflib.term.URIRef('http://mediagraph.link/ont/vndb/characterTrait'), rdflib.term.Literal('Dress Shoes (Shoes)'))\n",
      "(rdflib.term.URIRef('http://mediagraph.link/vndb/characters/33'), rdflib.term.URIRef('http://mediagraph.link/ont/vndb/characterNameOriginal'), rdflib.term.Literal('セイバー', lang='ja'))\n",
      "(rdflib.term.URIRef('http://mediagraph.link/vndb/characters/33'), rdflib.term.URIRef('http://mediagraph.link/ont/vndb/characterTrait'), rdflib.term.Literal('Longsword (Sword)'))\n",
      "(rdflib.term.URIRef('http://mediagraph.link/vndb/characters/33'), rdflib.term.URIRef('http://mediagraph.link/ont/vndb/characterTrait'), rdflib.term.Literal('Pale (Skin Tone)'))\n",
      "(rdflib.term.URIRef('http://mediagraph.link/vndb/characters/33'), rdflib.term.URIRef('http://mediagraph.link/ont/vndb/characterTrait'), rdflib.term.Literal('Slim (Body Type)'))\n",
      "(rdflib.term.URIRef('http://mediagraph.link/vndb/characters/33'), rdflib.term.URIRef('http://mediagraph.link/ont/vndb/characterTrait'), rdflib.term.Literal('Braided Bun (Bun)'))\n",
      "(rdflib.term.URIRef('http://mediagraph.link/vndb/characters/33'), rdflib.term.URIRef('http://mediagraph.link/ont/vndb/characterTrait'), rdflib.term.Literal('Average Height (Body Type)'))\n",
      "(rdflib.term.URIRef('http://mediagraph.link/vndb/characters/33'), rdflib.term.URIRef('http://mediagraph.link/ont/vndb/characterTrait'), rdflib.term.Literal('Blond (Hair Color)'))\n",
      "(rdflib.term.URIRef('http://mediagraph.link/vndb/characters/33'), rdflib.term.URIRef('http://mediagraph.link/ont/vndb/characterTrait'), rdflib.term.Literal(\"Miko's Dress (Dress)\"))\n",
      "(rdflib.term.URIRef('http://mediagraph.link/vndb/characters/33'), rdflib.term.URIRef('http://mediagraph.link/ont/vndb/gender'), rdflib.term.Literal('f'))\n",
      "(rdflib.term.URIRef('http://mediagraph.link/vndb/characters/33'), rdflib.term.URIRef('http://mediagraph.link/ont/vndb/characterTrait'), rdflib.term.Literal('Classic Tsundere (Tsundere)'))\n",
      "(rdflib.term.URIRef('http://mediagraph.link/vndb/characters/33'), rdflib.term.URIRef('http://mediagraph.link/ont/vndb/appearsInTitle'), rdflib.term.Literal('Fate/Stay Night', lang='en'))\n",
      "(rdflib.term.URIRef('http://mediagraph.link/vndb/characters/33'), rdflib.term.URIRef('http://mediagraph.link/ont/vndb/characterTrait'), rdflib.term.Literal('Swordsmanship (Sports)'))\n",
      "(rdflib.term.URIRef('http://mediagraph.link/vndb/characters/33'), rdflib.term.URIRef('http://mediagraph.link/ont/vndb/characterTrait'), rdflib.term.Literal('Boots (Shoes)'))\n",
      "(rdflib.term.URIRef('http://mediagraph.link/vndb/characters/33'), rdflib.term.URIRef('http://mediagraph.link/ont/vndb/characterTrait'), rdflib.term.Literal('Pretending (Personality)'))\n",
      "(rdflib.term.URIRef('http://mediagraph.link/vndb/characters/33'), rdflib.term.URIRef('http://mediagraph.link/ont/vndb/characterTrait'), rdflib.term.Literal(' Bikini (Swimsuit)'))\n",
      "(rdflib.term.URIRef('http://mediagraph.link/vndb/characters/33'), rdflib.term.URIRef('http://mediagraph.link/ont/vndb/characterTrait'), rdflib.term.Literal('Polyamory (Open Relationship)'))\n",
      "(rdflib.term.URIRef('http://mediagraph.link/vndb/characters/33'), rdflib.term.URIRef('http://mediagraph.link/ont/vndb/characterTrait'), rdflib.term.Literal('Ahoge (Hairstyle)'))\n",
      "(rdflib.term.URIRef('http://mediagraph.link/vndb/characters/33'), rdflib.term.URIRef('http://mediagraph.link/ont/vndb/characterTrait'), rdflib.term.Literal('Shoulder-length (Length)'))\n",
      "(rdflib.term.URIRef('http://mediagraph.link/vndb/characters/33'), rdflib.term.URIRef('http://mediagraph.link/ont/vndb/characterRole'), rdflib.term.Literal('primary'))\n",
      "(rdflib.term.URIRef('http://mediagraph.link/vndb/characters/33'), rdflib.term.URIRef('http://mediagraph.link/ont/vndb/characterTrait'), rdflib.term.Literal('Gauntlet (Gloves)'))\n",
      "(rdflib.term.URIRef('http://mediagraph.link/vndb/characters/33'), rdflib.term.URIRef('http://mediagraph.link/ont/vndb/characterTrait'), rdflib.term.Literal('Watashi (Personal Pronouns)'))\n",
      "(rdflib.term.URIRef('http://mediagraph.link/vndb/characters/33'), rdflib.term.URIRef('http://mediagraph.link/ont/vndb/characterTrait'), rdflib.term.Literal('Stoic (Personality)'))\n",
      "(rdflib.term.URIRef('http://mediagraph.link/vndb/characters/33'), rdflib.term.URIRef('http://mediagraph.link/ont/vndb/characterTrait'), rdflib.term.Literal('Wounding (Injury)'))\n",
      "(rdflib.term.URIRef('http://mediagraph.link/vndb/characters/33'), rdflib.term.URIRef('http://mediagraph.link/ont/vndb/characterTrait'), rdflib.term.Literal('Green (Eye Color)'))\n",
      "(rdflib.term.URIRef('http://mediagraph.link/vndb/characters/33'), rdflib.term.URIRef('http://mediagraph.link/ont/vndb/characterTrait'), rdflib.term.Literal(\"Maid's Headdress (Headband)\"))\n",
      "(rdflib.term.URIRef('http://mediagraph.link/vndb/characters/33'), rdflib.term.URIRef('http://mediagraph.link/ont/vndb/seiyuuName'), rdflib.term.Literal('Kawasumi Ayako', lang='en'))\n",
      "(rdflib.term.URIRef('http://mediagraph.link/vndb/characters/33'), rdflib.term.URIRef('http://mediagraph.link/ont/vndb/characterTrait'), rdflib.term.Literal('Soccer (Sports)'))\n",
      "(rdflib.term.URIRef('http://mediagraph.link/vndb/characters/33'), rdflib.term.URIRef('http://mediagraph.link/ont/vndb/seiyuuNameOriginal'), rdflib.term.Literal('川澄 綾子', lang='ja'))\n",
      "(rdflib.term.URIRef('http://mediagraph.link/vndb/characters/33'), rdflib.term.URIRef('http://mediagraph.link/ont/vndb/characterTrait'), rdflib.term.Literal('Swimming (Sports)'))\n",
      "(rdflib.term.URIRef('http://mediagraph.link/vndb/characters/33'), rdflib.term.URIRef('http://mediagraph.link/ont/vndb/characterTrait'), rdflib.term.Literal('Strict (Serious)'))\n",
      "(rdflib.term.URIRef('http://mediagraph.link/vndb/characters/33'), rdflib.term.URIRef('http://mediagraph.link/ont/vndb/characterTrait'), rdflib.term.Literal('School Uniform (Uniform)'))\n",
      "(rdflib.term.URIRef('http://mediagraph.link/vndb/characters/33'), rdflib.term.URIRef('http://mediagraph.link/ont/vndb/characterTrait'), rdflib.term.Literal('Off-The-Shoulder Shirt (Shirt)'))\n",
      "(rdflib.term.URIRef('http://mediagraph.link/vndb/characters/33'), rdflib.term.URIRef('http://mediagraph.link/ont/vndb/characterTrait'), rdflib.term.Literal('Dress (Over Body Clothing)'))\n",
      "(rdflib.term.URIRef('http://mediagraph.link/vndb/characters/33'), rdflib.term.URIRef('http://mediagraph.link/ont/vndb/characterTrait'), rdflib.term.Literal('Other Route Death (Avoidable Death)'))\n",
      "(rdflib.term.URIRef('http://mediagraph.link/vndb/characters/33'), rdflib.term.URIRef('http://mediagraph.link/ont/vndb/characterTrait'), rdflib.term.Literal('Honorable (Personality)'))\n",
      "(rdflib.term.URIRef('http://mediagraph.link/vndb/characters/33'), rdflib.term.URIRef('http://mediagraph.link/ont/vndb/characterTrait'), rdflib.term.Literal('Competitive (Personality)'))\n",
      "(rdflib.term.URIRef('http://mediagraph.link/vndb/characters/33'), rdflib.term.URIRef('http://mediagraph.link/ont/vndb/characterTrait'), rdflib.term.Literal('Proactive (Personality)'))\n",
      "(rdflib.term.URIRef('http://mediagraph.link/vndb/characters/62874'), rdflib.term.URIRef('http://mediagraph.link/ont/vndb/otherInstance'), rdflib.term.URIRef('http://mediagraph.link/vndb/characters/33'))\n",
      "(rdflib.term.URIRef('http://mediagraph.link/vndb/characters/33'), rdflib.term.URIRef('http://mediagraph.link/ont/vndb/characterTrait'), rdflib.term.Literal('Torture (Assault)'))\n",
      "(rdflib.term.URIRef('http://mediagraph.link/vndb/characters/33'), rdflib.term.URIRef('http://mediagraph.link/ont/vndb/characterTrait'), rdflib.term.Literal('Teen (Apparent Age)'))\n",
      "(rdflib.term.URIRef('http://mediagraph.link/vndb/characters/33'), rdflib.term.URIRef('http://mediagraph.link/ont/vndb/characterTrait'), rdflib.term.Literal('Based on a Fictional Character (Role)'))\n",
      "(rdflib.term.URIRef('http://mediagraph.link/vndb/characters/33'), rdflib.term.URIRef('http://mediagraph.link/ont/vndb/characterTrait'), rdflib.term.Literal('Teasing (Subject of)'))\n",
      "(rdflib.term.URIRef('http://mediagraph.link/vndb/characters/33'), rdflib.term.URIRef('http://mediagraph.link/ont/vndb/bustSize'), rdflib.term.Literal('73'))\n",
      "(rdflib.term.URIRef('http://mediagraph.link/vndb/characters/33'), rdflib.term.URIRef('http://mediagraph.link/ont/vndb/characterTrait'), rdflib.term.Literal('Straight (Type)'))\n",
      "(rdflib.term.URIRef('http://mediagraph.link/vndb/characters/33'), rdflib.term.URIRef('http://mediagraph.link/ont/vndb/characterTrait'), rdflib.term.Literal('Monarch (Royalty)'))\n",
      "(rdflib.term.URIRef('http://mediagraph.link/vndb/characters/33'), rdflib.term.URIRef('http://mediagraph.link/ont/vndb/characterTrait'), rdflib.term.Literal('Shirt (Upper Body Clothing)'))\n",
      "(rdflib.term.URIRef('http://mediagraph.link/vndb/characters/37815'), rdflib.term.URIRef('http://mediagraph.link/ont/vndb/otherInstance'), rdflib.term.URIRef('http://mediagraph.link/vndb/characters/33'))\n",
      "(rdflib.term.URIRef('http://mediagraph.link/vndb/characters/33'), rdflib.term.URIRef('http://mediagraph.link/ont/vndb/weight'), rdflib.term.Literal('42'))\n",
      "(rdflib.term.URIRef('http://mediagraph.link/vndb/characters/33'), rdflib.term.URIRef('http://mediagraph.link/ont/vndb/characterTrait'), rdflib.term.Literal('Rain Coat (Coat)'))\n",
      "(rdflib.term.URIRef('http://mediagraph.link/vndb/characters/33'), rdflib.term.URIRef('http://mediagraph.link/ont/vndb/description'), rdflib.term.Literal('Saber is [url=/c15]Shirou\\'s[/url] Servant. Loyal, independent, and reserved, Saber acts coldly but is actually suppressing her emotions to focus on her goals.\\\\n\\\\nHer class is considered the \"Most Outstanding\", with excellent ratings in all categories. Since her Master cannot effectively provide her with Mana, she minimizes her activity to preserve her energy. Saber is frustrated by Shirou\\'s \"protective\" tendencies, believing his erratic and reckless behavior will jeopardize her chances of winning the Holy Grail War.\\\\n\\\\n[From [url=http://en.wikipedia.org/wiki/List_of_Fate/stay_night_characters]Wikipedia[/url]]'))\n",
      "(rdflib.term.URIRef('http://mediagraph.link/vndb/characters/33'), rdflib.term.URIRef('http://mediagraph.link/ont/vndb/characterTrait'), rdflib.term.Literal('Skirt (Lower Body Clothing)'))\n",
      "(rdflib.term.URIRef('http://mediagraph.link/vndb/characters/33'), rdflib.term.URIRef('http://mediagraph.link/ont/vndb/characterTrait'), rdflib.term.Literal('Stuffed Toy (Toy)'))\n",
      "(rdflib.term.URIRef('http://mediagraph.link/vndb/characters/33'), rdflib.term.URIRef('http://www.w3.org/1999/02/22-rdf-syntax-ns#type'), rdflib.term.URIRef('http://mediagraph.link/ont/jvmg/VisualNovel'))\n",
      "(rdflib.term.URIRef('http://mediagraph.link/vndb/characters/33'), rdflib.term.URIRef('http://mediagraph.link/ont/vndb/characterTrait'), rdflib.term.Literal('Reserved (Personality)'))\n",
      "(rdflib.term.URIRef('http://mediagraph.link/vndb/characters/33'), rdflib.term.URIRef('http://mediagraph.link/ont/vndb/characterTrait'), rdflib.term.Literal('Ribbon Hair Tie (Hair Ribbon)'))\n",
      "(rdflib.term.URIRef('http://mediagraph.link/vndb/characters/33'), rdflib.term.URIRef('http://mediagraph.link/ont/vndb/hipSize'), rdflib.term.Literal('76'))\n",
      "(rdflib.term.URIRef('http://mediagraph.link/vndb/characters/33'), rdflib.term.URIRef('http://mediagraph.link/ont/vndb/height'), rdflib.term.Literal('154'))\n",
      "(rdflib.term.URIRef('http://mediagraph.link/vndb/characters/33'), rdflib.term.URIRef('http://mediagraph.link/ont/vndb/characterTrait'), rdflib.term.Literal('Sidehair (Tail)'))\n",
      "(rdflib.term.URIRef('http://mediagraph.link/vndb/characters/33'), rdflib.term.URIRef('http://mediagraph.link/ont/vndb/characterTrait'), rdflib.term.Literal('Tassets (Armor)'))\n",
      "(rdflib.term.URIRef('http://mediagraph.link/vndb/characters/33'), rdflib.term.URIRef('http://mediagraph.link/ont/vndb/characterTrait'), rdflib.term.Literal(\"Maid's Dress (Dress)\"))\n",
      "(rdflib.term.URIRef('http://mediagraph.link/vndb/characters/33'), rdflib.term.URIRef('http://mediagraph.link/ont/vndb/characterID'), rdflib.term.Literal('33'))\n"
     ]
    }
   ],
   "source": [
    "for triple in g:\n",
    "    print(triple)"
   ]
  },
  {
   "cell_type": "code",
   "execution_count": 19,
   "metadata": {},
   "outputs": [
    {
     "data": {
      "text/plain": [
       "'<http://example.org/thing1> <http://purl.org/dc/terms/subject> \"Semantic Web\" .'"
      ]
     },
     "execution_count": 19,
     "metadata": {},
     "output_type": "execute_result"
    }
   ],
   "source": [
    "# insert(\"\"\"<http://example.org/data/5> dc:creator h:Kai2 \"\"\")\n",
    "# insert(triple(\"h:example.org/data/4\", \"dc:title\", literal(\"Cool Stuff\", \"en\")))\n",
    "# insert(triple(\"h:example.org/data/4\", a, \"skos:Concept\"))\n",
    "# print(triple(\"h:example.org/data/4\", \"dc:title\", literal(\"Cool Stuff\", \"en\")))\n",
    "# print(expand(\"dc:creator\"))\n",
    "# print(expand(\"Hello World\"))\n",
    "# print(expand(literal(\"Hello World\", \"en\")))\n",
    "# print(expand(\"http://www.example.org\"))\n",
    "triple(\"h:example.org/thing1\", \"dc:subject\", literal(\"Semantic Web\"))"
   ]
  },
  {
   "cell_type": "code",
   "execution_count": null,
   "metadata": {},
   "outputs": [],
   "source": []
  }
 ],
 "metadata": {
  "kernelspec": {
   "display_name": "Python 3",
   "language": "python",
   "name": "python3"
  },
  "language_info": {
   "codemirror_mode": {
    "name": "ipython",
    "version": 3
   },
   "file_extension": ".py",
   "mimetype": "text/x-python",
   "name": "python",
   "nbconvert_exporter": "python",
   "pygments_lexer": "ipython3",
   "version": "3.8.0"
  }
 },
 "nbformat": 4,
 "nbformat_minor": 4
}
