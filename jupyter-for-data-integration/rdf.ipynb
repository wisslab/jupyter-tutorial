{
 "cells": [
  {
   "cell_type": "code",
   "execution_count": 14,
   "metadata": {},
   "outputs": [],
   "source": [
    "from SPARQLWrapper import SPARQLWrapper, JSON\n",
    "import rdflib\n",
    "# sparql = SPARQLWrapper(\"http://data.judaicalink.org/sparql/query\")\n",
    "\n",
    "sparqlquery = SPARQLWrapper(\"http://localhost:3030/tutorial/query\")\n",
    "sparqlupdate = SPARQLWrapper(\"http://localhost:3030/tutorial/update\")"
   ]
  },
  {
   "cell_type": "code",
   "execution_count": 15,
   "metadata": {},
   "outputs": [],
   "source": [
    "prefixes = [\n",
    "    (\"rdf\", \"http://www.w3.org/1999/02/22-rdf-syntax-ns#\"),\n",
    "    (\"rdfs\", \"http://www.w3.org/2000/01/rdf-schema#\"),\n",
    "    (\"owl\", \"http://www.w3.org/2002/07/owl#\"),\n",
    "    (\"skos\", \"http://www.w3.org/2004/02/skos/core#\"),\n",
    "    (\"foaf\", \"http://xmlns.com/foaf/0.1/\"),\n",
    "    (\"dc\", \"http://purl.org/dc/terms/\"),\n",
    "    (\"h\", \"http://\"),\n",
    "]\n",
    "\n",
    "INT = \"http://www.w3.org/2001/XMLSchema#integer\"\n",
    "a = \"rdf:type\""
   ]
  },
  {
   "cell_type": "code",
   "execution_count": 34,
   "metadata": {},
   "outputs": [],
   "source": [
    "def literal(value, langOrType=None):\n",
    "    res = '\"{}\"'.format(value)\n",
    "    if langOrType==None:\n",
    "        return res\n",
    "    if len(langOrType)==2:\n",
    "        return \"{}@{}\".format(res, langOrType)\n",
    "    else:\n",
    "        return \"{}^^{}\".format(res, langOrType)\n",
    "\n",
    "\n",
    "def expand(uri, prefixes=prefixes):\n",
    "    if \"<\" == uri[0]:\n",
    "        return uri\n",
    "    if '\"' == uri[0] or \"'\" == uri[0]:\n",
    "        return uri\n",
    "    if \"http://\" == uri[:7] or \"https://\" == uri[:8]:\n",
    "        return \"<{}>\".format(uri)\n",
    "    for p in prefixes:\n",
    "        if \"{}:\".format(p[0]) == uri[:len(p[0])+1]:\n",
    "            return \"<{}>\".format(uri.replace(\"{}:\".format(p[0]), p[1]))\n",
    "    return '\"{}\"'.format(uri)\n",
    "\n",
    "\n",
    "def insert(data, prefixes=prefixes):\n",
    "    prefixstring = \"\\n\".join(map(lambda x: \"PREFIX {}: <{}>\".format(x[0], x[1]), prefixes))\n",
    "\n",
    "    query = \"%s INSERT { %s } WHERE {}\" % (prefixstring, data)\n",
    "    sparqlupdate.setQuery(query)\n",
    "    sparqlupdate.setReturnFormat(JSON)\n",
    "    sparqlupdate.method = 'POST'\n",
    "    return sparqlupdate.query()\n",
    "\n",
    "def select(variables, where, prefixes, limit=10):\n",
    "    prefixstring = \"\\n\".join(map(lambda x: \"PREFIX {}: <{}>\".format(x[0], x[1]), prefixes))\n",
    "    query = \"%s\\n\\nSELECT %s WHERE { %s } LIMIT %s\" % (prefixstring, variables, where, limit)\n",
    "    sparqlquery.setQuery(query)\n",
    "    sparqlquery.setReturnFormat(JSON)\n",
    "    sparqlquery.method = 'GET'\n",
    "    return sparqlquery.query().convert()\n",
    "\n",
    "def getValues(result, *variable):\n",
    "    for b in result[\"results\"][\"bindings\"]:\n",
    "        res = []\n",
    "        for v in variable:\n",
    "            res.append(b[v[1:]][\"value\"])\n",
    "        yield tuple(res)\n",
    "\n",
    "def get(uri):\n",
    "    uri = expand(uri)\n",
    "    uri = uri[1:-1]\n",
    "    graph = rdflib.Graph()\n",
    "    graph.parse(uri)\n",
    "    return graph.serialize(format='nt').decode()\n",
    "\n",
    "\n",
    "def triple(subject, predicate, object, prefixes=prefixes):\n",
    "    return \"{} {} {} .\".format(expand(subject, prefixes),\n",
    "                             expand(predicate, prefixes),\n",
    "                             expand(object, prefixes))"
   ]
  },
  {
   "cell_type": "code",
   "execution_count": 35,
   "metadata": {},
   "outputs": [],
   "source": [
    "neuedaten = get(\"http://dbpedia.org/resource/Oskar_Trautmann\")"
   ]
  },
  {
   "cell_type": "code",
   "execution_count": null,
   "metadata": {},
   "outputs": [],
   "source": [
    "insert(neuedaten, prefixes)\n",
    "\n",
    "# insert(\"\"\"<http://example.org/data/5> dc:creator h:Kai2 \"\"\")\n",
    "# insert(triple(\"h:example.org/data/4\", \"dc:title\", literal(\"Cool Stuff\", \"en\")))\n",
    "# insert(triple(\"h:example.org/data/4\", a, \"skos:Concept\"))\n",
    "# print(triple(\"h:example.org/data/4\", \"dc:title\", literal(\"Cool Stuff\", \"en\")))\n",
    "# print(expand(\"dc:creator\"))\n",
    "# print(expand(\"Hello World\"))\n",
    "# print(expand(literal(\"Hello World\", \"en\")))\n",
    "# print(expand(\"http://www.example.org\"))\n",
    "\n",
    "\n",
    "\n",
    "# r = select(\"?s ?p ?o\", \"?s ?p ?o\", prefixes, 30)\n",
    "# for s, p, o in getValues(r, \"?s\", \"?p\", \"?o\"):\n",
    "#    print(s, p, o)"
   ]
  },
  {
   "cell_type": "code",
   "execution_count": 27,
   "metadata": {},
   "outputs": [
    {
     "data": {
      "text/plain": [
       "<Graph identifier=N500e76943721425cbc20740a16558d6b (<class 'rdflib.graph.Graph'>)>"
      ]
     },
     "execution_count": 27,
     "metadata": {},
     "output_type": "execute_result"
    }
   ],
   "source": [
    "g = rdflib.Graph()\n",
    "g.parse('http://mediagraph.link/vndb/characters/33')"
   ]
  },
  {
   "cell_type": "code",
   "execution_count": 30,
   "metadata": {},
   "outputs": [
    {
     "name": "stdout",
     "output_type": "stream",
     "text": [
      "(rdflib.term.URIRef('http://mediagraph.link/vndb/characters/33'), rdflib.term.URIRef('http://mediagraph.link/ont/vndb/characterTrait'), rdflib.term.Literal('Boots (Shoes)'))\n",
      "(rdflib.term.URIRef('http://mediagraph.link/vndb/characters/33'), rdflib.term.URIRef('http://mediagraph.link/ont/vndb/characterTrait'), rdflib.term.Literal('Other Route Death (Avoidable Death)'))\n",
      "(rdflib.term.URIRef('http://mediagraph.link/vndb/characters/33'), rdflib.term.URIRef('http://mediagraph.link/ont/vndb/bustSize'), rdflib.term.Literal('73'))\n",
      "(rdflib.term.URIRef('http://mediagraph.link/vndb/characters/33'), rdflib.term.URIRef('http://mediagraph.link/ont/vndb/characterTrait'), rdflib.term.Literal('Polyamory (Open Relationship)'))\n",
      "(rdflib.term.URIRef('http://mediagraph.link/vndb/characters/33'), rdflib.term.URIRef('http://mediagraph.link/ont/vndb/characterTrait'), rdflib.term.Literal('Teen (Apparent Age)'))\n",
      "(rdflib.term.URIRef('http://mediagraph.link/vndb/characters/33'), rdflib.term.URIRef('http://mediagraph.link/ont/vndb/characterNameOriginal'), rdflib.term.Literal('セイバー', lang='ja'))\n",
      "(rdflib.term.URIRef('http://mediagraph.link/vndb/characters/33'), rdflib.term.URIRef('http://mediagraph.link/ont/vndb/characterTrait'), rdflib.term.Literal('Torture (Assault)'))\n",
      "(rdflib.term.URIRef('http://mediagraph.link/vndb/characters/33'), rdflib.term.URIRef('http://mediagraph.link/ont/vndb/characterTrait'), rdflib.term.Literal('Pale (Skin Tone)'))\n",
      "(rdflib.term.URIRef('http://mediagraph.link/vndb/characters/4443'), rdflib.term.URIRef('http://mediagraph.link/ont/vndb/otherInstance'), rdflib.term.URIRef('http://mediagraph.link/vndb/characters/33'))\n",
      "(rdflib.term.URIRef('http://mediagraph.link/vndb/characters/33'), rdflib.term.URIRef('http://mediagraph.link/ont/vndb/characterTrait'), rdflib.term.Literal('Based on a Fictional Character (Role)'))\n",
      "(rdflib.term.URIRef('http://mediagraph.link/vndb/characters/33'), rdflib.term.URIRef('http://mediagraph.link/ont/vndb/characterTrait'), rdflib.term.Literal(' Bikini (Swimsuit)'))\n",
      "(rdflib.term.URIRef('http://mediagraph.link/vndb/characters/33'), rdflib.term.URIRef('http://mediagraph.link/ont/vndb/characterTrait'), rdflib.term.Literal('Wounding (Injury)'))\n",
      "(rdflib.term.URIRef('http://mediagraph.link/vndb/characters/33'), rdflib.term.URIRef('http://mediagraph.link/ont/vndb/hipSize'), rdflib.term.Literal('76'))\n",
      "(rdflib.term.URIRef('http://mediagraph.link/vndb/characters/33'), rdflib.term.URIRef('http://mediagraph.link/ont/vndb/characterTrait'), rdflib.term.Literal('Spirit (Nature)'))\n",
      "(rdflib.term.URIRef('http://mediagraph.link/vndb/characters/33'), rdflib.term.URIRef('http://mediagraph.link/ont/vndb/characterTrait'), rdflib.term.Literal('Jeans (Trousers)'))\n",
      "(rdflib.term.URIRef('http://mediagraph.link/vndb/characters/33'), rdflib.term.URIRef('http://mediagraph.link/ont/vndb/characterTrait'), rdflib.term.Literal(\"Maid's Dress (Dress)\"))\n",
      "(rdflib.term.URIRef('http://mediagraph.link/vndb/characters/33'), rdflib.term.URIRef('http://www.w3.org/1999/02/22-rdf-syntax-ns#type'), rdflib.term.URIRef('http://mediagraph.link/ont/jvmg/VisualNovel'))\n",
      "(rdflib.term.URIRef('http://mediagraph.link/vndb/characters/33'), rdflib.term.URIRef('http://mediagraph.link/ont/vndb/characterTrait'), rdflib.term.Literal('Dress Shoes (Shoes)'))\n",
      "(rdflib.term.URIRef('http://mediagraph.link/vndb/characters/33'), rdflib.term.URIRef('http://mediagraph.link/ont/vndb/characterTrait'), rdflib.term.Literal('Swordsmanship (Sports)'))\n",
      "(rdflib.term.URIRef('http://mediagraph.link/vndb/characters/33'), rdflib.term.URIRef('http://mediagraph.link/ont/vndb/characterRole'), rdflib.term.Literal('primary'))\n",
      "(rdflib.term.URIRef('http://mediagraph.link/vndb/characters/33'), rdflib.term.URIRef('http://mediagraph.link/ont/vndb/characterTrait'), rdflib.term.Literal('Off-The-Shoulder Shirt (Shirt)'))\n",
      "(rdflib.term.URIRef('http://mediagraph.link/vndb/characters/33'), rdflib.term.URIRef('http://mediagraph.link/ont/vndb/characterTrait'), rdflib.term.Literal('Pantyhose (Stockings)'))\n",
      "(rdflib.term.URIRef('http://mediagraph.link/vndb/characters/33'), rdflib.term.URIRef('http://mediagraph.link/ont/vndb/characterTrait'), rdflib.term.Literal(\"Maid's Headdress (Headband)\"))\n",
      "(rdflib.term.URIRef('http://mediagraph.link/vndb/characters/33'), rdflib.term.URIRef('http://mediagraph.link/ont/vndb/characterTrait'), rdflib.term.Literal('Brave (Personality)'))\n",
      "(rdflib.term.URIRef('http://mediagraph.link/vndb/characters/33'), rdflib.term.URIRef('http://mediagraph.link/ont/vndb/characterTrait'), rdflib.term.Literal('Dress (Over Body Clothing)'))\n",
      "(rdflib.term.URIRef('http://mediagraph.link/vndb/characters/33'), rdflib.term.URIRef('http://mediagraph.link/ont/vndb/description'), rdflib.term.Literal('Saber is [url=/c15]Shirou\\'s[/url] Servant. Loyal, independent, and reserved, Saber acts coldly but is actually suppressing her emotions to focus on her goals.\\\\n\\\\nHer class is considered the \"Most Outstanding\", with excellent ratings in all categories. Since her Master cannot effectively provide her with Mana, she minimizes her activity to preserve her energy. Saber is frustrated by Shirou\\'s \"protective\" tendencies, believing his erratic and reckless behavior will jeopardize her chances of winning the Holy Grail War.\\\\n\\\\n[From [url=http://en.wikipedia.org/wiki/List_of_Fate/stay_night_characters]Wikipedia[/url]]'))\n",
      "(rdflib.term.URIRef('http://mediagraph.link/vndb/characters/33'), rdflib.term.URIRef('http://mediagraph.link/ont/vndb/characterTrait'), rdflib.term.Literal('Ahoge (Hairstyle)'))\n",
      "(rdflib.term.URIRef('http://mediagraph.link/vndb/characters/33'), rdflib.term.URIRef('http://mediagraph.link/ont/vndb/characterTrait'), rdflib.term.Literal('Knight (Warrior)'))\n",
      "(rdflib.term.URIRef('http://mediagraph.link/vndb/characters/33'), rdflib.term.URIRef('http://mediagraph.link/ont/vndb/characterName'), rdflib.term.Literal('Saber', lang='en'))\n",
      "(rdflib.term.URIRef('http://mediagraph.link/vndb/characters/33'), rdflib.term.URIRef('http://mediagraph.link/ont/vndb/characterTrait'), rdflib.term.Literal('Shoulder-length (Length)'))\n",
      "(rdflib.term.URIRef('http://mediagraph.link/vndb/characters/33'), rdflib.term.URIRef('http://mediagraph.link/ont/vndb/characterTrait'), rdflib.term.Literal('Strict (Serious)'))\n",
      "(rdflib.term.URIRef('http://mediagraph.link/vndb/characters/33'), rdflib.term.URIRef('http://mediagraph.link/ont/vndb/characterTrait'), rdflib.term.Literal('Blond (Hair Color)'))\n",
      "(rdflib.term.URIRef('http://mediagraph.link/vndb/characters/33'), rdflib.term.URIRef('http://mediagraph.link/ont/vndb/characterTrait'), rdflib.term.Literal('Watashi (Personal Pronouns)'))\n",
      "(rdflib.term.URIRef('http://mediagraph.link/vndb/characters/33'), rdflib.term.URIRef('http://mediagraph.link/ont/vndb/characterTrait'), rdflib.term.Literal('Average Height (Body Type)'))\n",
      "(rdflib.term.URIRef('http://mediagraph.link/vndb/characters/33'), rdflib.term.URIRef('http://mediagraph.link/ont/vndb/characterTrait'), rdflib.term.Literal('Stoic (Personality)'))\n",
      "(rdflib.term.URIRef('http://mediagraph.link/vndb/characters/33'), rdflib.term.URIRef('http://mediagraph.link/ont/vndb/appearsInTitle'), rdflib.term.Literal('Fate/Stay Night', lang='en'))\n",
      "(rdflib.term.URIRef('http://mediagraph.link/vndb/characters/33'), rdflib.term.URIRef('http://mediagraph.link/ont/vndb/characterTrait'), rdflib.term.Literal('Swimming (Sports)'))\n",
      "(rdflib.term.URIRef('http://mediagraph.link/vndb/characters/33'), rdflib.term.URIRef('http://mediagraph.link/ont/vndb/characterTrait'), rdflib.term.Literal('Food Lover (Personality)'))\n",
      "(rdflib.term.URIRef('http://mediagraph.link/vndb/characters/33'), rdflib.term.URIRef('http://mediagraph.link/ont/vndb/characterTrait'), rdflib.term.Literal('Monarch (Royalty)'))\n",
      "(rdflib.term.URIRef('http://mediagraph.link/vndb/characters/33'), rdflib.term.URIRef('http://mediagraph.link/ont/vndb/characterTrait'), rdflib.term.Literal('Slim (Body Type)'))\n",
      "(rdflib.term.URIRef('http://mediagraph.link/vndb/characters/33'), rdflib.term.URIRef('http://mediagraph.link/ont/vndb/characterTrait'), rdflib.term.Literal('Honorable (Personality)'))\n",
      "(rdflib.term.URIRef('http://mediagraph.link/vndb/characters/33'), rdflib.term.URIRef('http://mediagraph.link/ont/vndb/characterTrait'), rdflib.term.Literal('Stuffed Toy (Toy)'))\n",
      "(rdflib.term.URIRef('http://mediagraph.link/vndb/characters/33'), rdflib.term.URIRef('http://mediagraph.link/ont/vndb/characterTrait'), rdflib.term.Literal('Long (Length)'))\n",
      "(rdflib.term.URIRef('http://mediagraph.link/vndb/characters/33'), rdflib.term.URIRef('http://mediagraph.link/ont/vndb/characterTrait'), rdflib.term.Literal('Sidehair (Tail)'))\n",
      "(rdflib.term.URIRef('http://mediagraph.link/vndb/characters/33'), rdflib.term.URIRef('http://mediagraph.link/ont/vndb/characterTrait'), rdflib.term.Literal('Braided Bun (Bun)'))\n",
      "(rdflib.term.URIRef('http://mediagraph.link/vndb/characters/33'), rdflib.term.URIRef('http://mediagraph.link/ont/vndb/height'), rdflib.term.Literal('154'))\n",
      "(rdflib.term.URIRef('http://mediagraph.link/vndb/characters/33'), rdflib.term.URIRef('http://mediagraph.link/ont/vndb/characterTrait'), rdflib.term.Literal('Ribbon Hair Tie (Hair Ribbon)'))\n",
      "(rdflib.term.URIRef('http://mediagraph.link/vndb/characters/33'), rdflib.term.URIRef('http://mediagraph.link/ont/vndb/characterTrait'), rdflib.term.Literal('Pretending (Personality)'))\n",
      "(rdflib.term.URIRef('http://mediagraph.link/vndb/characters/33'), rdflib.term.URIRef('http://mediagraph.link/ont/vndb/weight'), rdflib.term.Literal('42'))\n",
      "(rdflib.term.URIRef('http://mediagraph.link/vndb/characters/33'), rdflib.term.URIRef('http://mediagraph.link/ont/vndb/characterTrait'), rdflib.term.Literal('Shirt (Upper Body Clothing)'))\n",
      "(rdflib.term.URIRef('http://mediagraph.link/vndb/characters/33'), rdflib.term.URIRef('http://mediagraph.link/ont/vndb/characterTrait'), rdflib.term.Literal('Plate Armor (Armor)'))\n",
      "(rdflib.term.URIRef('http://mediagraph.link/vndb/characters/33'), rdflib.term.URIRef('http://mediagraph.link/ont/vndb/characterTrait'), rdflib.term.Literal('Classic Tsundere (Tsundere)'))\n",
      "(rdflib.term.URIRef('http://mediagraph.link/vndb/characters/33'), rdflib.term.URIRef('http://mediagraph.link/ont/vndb/characterTrait'), rdflib.term.Literal('Gauntlet (Gloves)'))\n",
      "(rdflib.term.URIRef('http://mediagraph.link/vndb/characters/33'), rdflib.term.URIRef('http://mediagraph.link/ont/vndb/characterTrait'), rdflib.term.Literal('Loyal (Personality)'))\n",
      "(rdflib.term.URIRef('http://mediagraph.link/vndb/characters/33'), rdflib.term.URIRef('http://mediagraph.link/ont/vndb/characterTrait'), rdflib.term.Literal('School Uniform (Uniform)'))\n",
      "(rdflib.term.URIRef('http://mediagraph.link/vndb/characters/33'), rdflib.term.URIRef('http://mediagraph.link/ont/vndb/characterTrait'), rdflib.term.Literal('Rain Coat (Coat)'))\n",
      "(rdflib.term.URIRef('http://mediagraph.link/vndb/characters/33'), rdflib.term.URIRef('http://mediagraph.link/ont/vndb/characterTrait'), rdflib.term.Literal('Straight (Type)'))\n",
      "(rdflib.term.URIRef('http://mediagraph.link/vndb/characters/33'), rdflib.term.URIRef('http://mediagraph.link/ont/vndb/characterTrait'), rdflib.term.Literal(\"Miko's Dress (Dress)\"))\n",
      "(rdflib.term.URIRef('http://mediagraph.link/vndb/characters/33'), rdflib.term.URIRef('http://mediagraph.link/ont/vndb/characterTrait'), rdflib.term.Literal('Reserved (Personality)'))\n",
      "(rdflib.term.URIRef('http://mediagraph.link/vndb/characters/33'), rdflib.term.URIRef('http://mediagraph.link/ont/vndb/characterTrait'), rdflib.term.Literal('Proactive (Personality)'))\n",
      "(rdflib.term.URIRef('http://mediagraph.link/vndb/characters/33'), rdflib.term.URIRef('http://mediagraph.link/ont/vndb/seiyuuNameOriginal'), rdflib.term.Literal('川澄 綾子', lang='ja'))\n",
      "(rdflib.term.URIRef('http://mediagraph.link/vndb/characters/33'), rdflib.term.URIRef('http://mediagraph.link/ont/vndb/characterID'), rdflib.term.Literal('33'))\n",
      "(rdflib.term.URIRef('http://mediagraph.link/vndb/characters/33'), rdflib.term.URIRef('http://mediagraph.link/ont/vndb/characterTrait'), rdflib.term.Literal('Shinai (Practice Swords)'))\n",
      "(rdflib.term.URIRef('http://mediagraph.link/vndb/characters/33'), rdflib.term.URIRef('http://mediagraph.link/ont/vndb/waistSize'), rdflib.term.Literal('53'))\n",
      "(rdflib.term.URIRef('http://mediagraph.link/vndb/characters/33'), rdflib.term.URIRef('http://mediagraph.link/ont/vndb/characterTrait'), rdflib.term.Literal('Tassets (Armor)'))\n",
      "(rdflib.term.URIRef('http://mediagraph.link/vndb/characters/33'), rdflib.term.URIRef('http://mediagraph.link/ont/vndb/characterTrait'), rdflib.term.Literal('Sandals (Shoes)'))\n",
      "(rdflib.term.URIRef('http://mediagraph.link/vndb/characters/33'), rdflib.term.URIRef('http://mediagraph.link/ont/vndb/characterTrait'), rdflib.term.Literal('Soccer (Sports)'))\n",
      "(rdflib.term.URIRef('http://mediagraph.link/vndb/characters/62874'), rdflib.term.URIRef('http://mediagraph.link/ont/vndb/otherInstance'), rdflib.term.URIRef('http://mediagraph.link/vndb/characters/33'))\n",
      "(rdflib.term.URIRef('http://mediagraph.link/vndb/characters/33'), rdflib.term.URIRef('http://mediagraph.link/ont/vndb/characterTrait'), rdflib.term.Literal('Skirt (Lower Body Clothing)'))\n",
      "(rdflib.term.URIRef('http://mediagraph.link/vndb/characters/33'), rdflib.term.URIRef('http://mediagraph.link/ont/vndb/characterTrait'), rdflib.term.Literal('Fighting (Engages in)'))\n",
      "(rdflib.term.URIRef('http://mediagraph.link/vndb/characters/33'), rdflib.term.URIRef('http://mediagraph.link/ont/vndb/seiyuuName'), rdflib.term.Literal('Kawasumi Ayako', lang='en'))\n",
      "(rdflib.term.URIRef('http://mediagraph.link/vndb/characters/33'), rdflib.term.URIRef('http://mediagraph.link/ont/vndb/gender'), rdflib.term.Literal('f'))\n",
      "(rdflib.term.URIRef('http://mediagraph.link/vndb/characters/33'), rdflib.term.URIRef('http://mediagraph.link/ont/vndb/characterTrait'), rdflib.term.Literal('Green (Eye Color)'))\n",
      "(rdflib.term.URIRef('http://mediagraph.link/vndb/characters/33'), rdflib.term.URIRef('http://mediagraph.link/ont/vndb/characterTrait'), rdflib.term.Literal('Competitive (Personality)'))\n",
      "(rdflib.term.URIRef('http://mediagraph.link/vndb/characters/33'), rdflib.term.URIRef('http://mediagraph.link/ont/vndb/characterTrait'), rdflib.term.Literal('Teasing (Subject of)'))\n",
      "(rdflib.term.URIRef('http://mediagraph.link/vndb/characters/37815'), rdflib.term.URIRef('http://mediagraph.link/ont/vndb/otherInstance'), rdflib.term.URIRef('http://mediagraph.link/vndb/characters/33'))\n",
      "(rdflib.term.URIRef('http://mediagraph.link/vndb/characters/33'), rdflib.term.URIRef('http://mediagraph.link/ont/vndb/characterTrait'), rdflib.term.Literal('Longsword (Sword)'))\n",
      "(rdflib.term.URIRef('http://mediagraph.link/vndb/characters/54'), rdflib.term.URIRef('http://mediagraph.link/ont/vndb/otherInstance'), rdflib.term.URIRef('http://mediagraph.link/vndb/characters/33'))\n"
     ]
    }
   ],
   "source": [
    "for triple in g:\n",
    "    print(triple)"
   ]
  },
  {
   "cell_type": "code",
   "execution_count": null,
   "metadata": {},
   "outputs": [],
   "source": []
  }
 ],
 "metadata": {
  "kernelspec": {
   "display_name": "Python 3",
   "language": "python",
   "name": "python3"
  },
  "language_info": {
   "codemirror_mode": {
    "name": "ipython",
    "version": 3
   },
   "file_extension": ".py",
   "mimetype": "text/x-python",
   "name": "python",
   "nbconvert_exporter": "python",
   "pygments_lexer": "ipython3",
   "version": "3.8.0"
  }
 },
 "nbformat": 4,
 "nbformat_minor": 4
}
