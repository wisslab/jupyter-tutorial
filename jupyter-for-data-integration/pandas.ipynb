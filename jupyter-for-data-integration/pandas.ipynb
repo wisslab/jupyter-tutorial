{
 "cells": [
  {
   "cell_type": "markdown",
   "metadata": {},
   "source": [
    "# Data analysis with Pandas\n",
    "\n",
    "Pandas is a very versatile and popular framework for data analysis. We do not use it in this tutorial, as it certainly would deserve a tutorial on its own.\n",
    "\n",
    "Instead, we focus on \"plain\" Python to make the contents equally interesting and relevant everyone.\n",
    "\n",
    "However... here are some examples to give you an idea about Pandas."
   ]
  },
  {
   "cell_type": "markdown",
   "metadata": {},
   "source": [
    "## Installation\n",
    "\n",
    "https://pandas.pydata.org/pandas-docs/stable/install.html"
   ]
  },
  {
   "cell_type": "code",
   "execution_count": 2,
   "metadata": {},
   "outputs": [],
   "source": [
    "import numpy as np\n",
    "import pandas as pd\n",
    "import matplotlib.pyplot as plt\n",
    "%matplotlib inline"
   ]
  },
  {
   "cell_type": "markdown",
   "metadata": {},
   "source": [
    "## Reading a CSV file"
   ]
  },
  {
   "cell_type": "code",
   "execution_count": 3,
   "metadata": {},
   "outputs": [
    {
     "data": {
      "text/html": [
       "<div>\n",
       "<style scoped>\n",
       "    .dataframe tbody tr th:only-of-type {\n",
       "        vertical-align: middle;\n",
       "    }\n",
       "\n",
       "    .dataframe tbody tr th {\n",
       "        vertical-align: top;\n",
       "    }\n",
       "\n",
       "    .dataframe thead th {\n",
       "        text-align: right;\n",
       "    }\n",
       "</style>\n",
       "<table border=\"1\" class=\"dataframe\">\n",
       "  <thead>\n",
       "    <tr style=\"text-align: right;\">\n",
       "      <th></th>\n",
       "      <th>euCode</th>\n",
       "      <th>isoCode</th>\n",
       "      <th>name</th>\n",
       "      <th>language</th>\n",
       "    </tr>\n",
       "  </thead>\n",
       "  <tbody>\n",
       "    <tr>\n",
       "      <th>0</th>\n",
       "      <td>AD</td>\n",
       "      <td>AD</td>\n",
       "      <td>Andora</td>\n",
       "      <td>pl</td>\n",
       "    </tr>\n",
       "    <tr>\n",
       "      <th>1</th>\n",
       "      <td>AD</td>\n",
       "      <td>AD</td>\n",
       "      <td>Andorra</td>\n",
       "      <td>es</td>\n",
       "    </tr>\n",
       "    <tr>\n",
       "      <th>2</th>\n",
       "      <td>AD</td>\n",
       "      <td>AD</td>\n",
       "      <td>Andorra</td>\n",
       "      <td>it</td>\n",
       "    </tr>\n",
       "    <tr>\n",
       "      <th>3</th>\n",
       "      <td>AD</td>\n",
       "      <td>AD</td>\n",
       "      <td>Andorra</td>\n",
       "      <td>de</td>\n",
       "    </tr>\n",
       "    <tr>\n",
       "      <th>4</th>\n",
       "      <td>AD</td>\n",
       "      <td>AD</td>\n",
       "      <td>Andorra</td>\n",
       "      <td>en</td>\n",
       "    </tr>\n",
       "    <tr>\n",
       "      <th>5</th>\n",
       "      <td>AD</td>\n",
       "      <td>AD</td>\n",
       "      <td>Andorre</td>\n",
       "      <td>fr</td>\n",
       "    </tr>\n",
       "    <tr>\n",
       "      <th>6</th>\n",
       "      <td>AE</td>\n",
       "      <td>AE</td>\n",
       "      <td>Emiratos Árabes Unidos</td>\n",
       "      <td>es</td>\n",
       "    </tr>\n",
       "    <tr>\n",
       "      <th>7</th>\n",
       "      <td>AE</td>\n",
       "      <td>AE</td>\n",
       "      <td>Zjednoczone Emiraty Arabskie</td>\n",
       "      <td>pl</td>\n",
       "    </tr>\n",
       "    <tr>\n",
       "      <th>8</th>\n",
       "      <td>AE</td>\n",
       "      <td>AE</td>\n",
       "      <td>United Arab Emirates</td>\n",
       "      <td>en</td>\n",
       "    </tr>\n",
       "    <tr>\n",
       "      <th>9</th>\n",
       "      <td>AE</td>\n",
       "      <td>AE</td>\n",
       "      <td>Vereinigte Arabische Emirate</td>\n",
       "      <td>de</td>\n",
       "    </tr>\n",
       "  </tbody>\n",
       "</table>\n",
       "</div>"
      ],
      "text/plain": [
       "  euCode isoCode                          name language\n",
       "0     AD      AD                        Andora       pl\n",
       "1     AD      AD                       Andorra       es\n",
       "2     AD      AD                       Andorra       it\n",
       "3     AD      AD                       Andorra       de\n",
       "4     AD      AD                       Andorra       en\n",
       "5     AD      AD                       Andorre       fr\n",
       "6     AE      AE        Emiratos Árabes Unidos       es\n",
       "7     AE      AE  Zjednoczone Emiraty Arabskie       pl\n",
       "8     AE      AE          United Arab Emirates       en\n",
       "9     AE      AE  Vereinigte Arabische Emirate       de"
      ]
     },
     "execution_count": 3,
     "metadata": {},
     "output_type": "execute_result"
    }
   ],
   "source": [
    "df = pd.read_csv(\"../data/cordisref-countries.csv\", delimiter=';')\n",
    "df.head(10)"
   ]
  },
  {
   "cell_type": "markdown",
   "metadata": {},
   "source": [
    "### Selecting single columns"
   ]
  },
  {
   "cell_type": "code",
   "execution_count": 4,
   "metadata": {},
   "outputs": [
    {
     "data": {
      "text/plain": [
       "0       AD\n",
       "1       AD\n",
       "2       AD\n",
       "3       AD\n",
       "4       AD\n",
       "        ..\n",
       "1498    ZM\n",
       "1499    ZW\n",
       "1500    ZW\n",
       "1501    ZW\n",
       "1502    ZW\n",
       "Name: isoCode, Length: 1503, dtype: object"
      ]
     },
     "execution_count": 4,
     "metadata": {},
     "output_type": "execute_result"
    }
   ],
   "source": [
    "df['isoCode']"
   ]
  },
  {
   "cell_type": "markdown",
   "metadata": {},
   "source": [
    "### Filtering rows"
   ]
  },
  {
   "cell_type": "code",
   "execution_count": 5,
   "metadata": {},
   "outputs": [
    {
     "data": {
      "text/plain": [
       "3                            Andorra\n",
       "9       Vereinigte Arabische Emirate\n",
       "13                       Afghanistan\n",
       "21               Antigua und Barbuda\n",
       "25                          Anguilla\n",
       "                    ...             \n",
       "1478                           Jemen\n",
       "1485                         Mayotte\n",
       "1490                       Südafrika\n",
       "1493                          Sambia\n",
       "1501                        Simbabwe\n",
       "Name: name, Length: 250, dtype: object"
      ]
     },
     "execution_count": 5,
     "metadata": {},
     "output_type": "execute_result"
    }
   ],
   "source": [
    "df[df['language']=='de']['name']"
   ]
  },
  {
   "cell_type": "markdown",
   "metadata": {},
   "source": [
    "### Get unique values"
   ]
  },
  {
   "cell_type": "code",
   "execution_count": 6,
   "metadata": {},
   "outputs": [
    {
     "data": {
      "text/plain": [
       "array(['pl', 'es', 'it', 'de', 'en', 'fr'], dtype=object)"
      ]
     },
     "execution_count": 6,
     "metadata": {},
     "output_type": "execute_result"
    }
   ],
   "source": [
    "df['language'].unique()"
   ]
  },
  {
   "cell_type": "markdown",
   "metadata": {},
   "source": [
    "### Simple statistics"
   ]
  },
  {
   "cell_type": "code",
   "execution_count": 7,
   "metadata": {},
   "outputs": [
    {
     "data": {
      "text/html": [
       "<div>\n",
       "<style scoped>\n",
       "    .dataframe tbody tr th:only-of-type {\n",
       "        vertical-align: middle;\n",
       "    }\n",
       "\n",
       "    .dataframe tbody tr th {\n",
       "        vertical-align: top;\n",
       "    }\n",
       "\n",
       "    .dataframe thead th {\n",
       "        text-align: right;\n",
       "    }\n",
       "</style>\n",
       "<table border=\"1\" class=\"dataframe\">\n",
       "  <thead>\n",
       "    <tr style=\"text-align: right;\">\n",
       "      <th></th>\n",
       "      <th>euCode</th>\n",
       "      <th>isoCode</th>\n",
       "      <th>name</th>\n",
       "      <th>language</th>\n",
       "    </tr>\n",
       "  </thead>\n",
       "  <tbody>\n",
       "    <tr>\n",
       "      <th>count</th>\n",
       "      <td>1497</td>\n",
       "      <td>1485</td>\n",
       "      <td>1503</td>\n",
       "      <td>1503</td>\n",
       "    </tr>\n",
       "    <tr>\n",
       "      <th>unique</th>\n",
       "      <td>250</td>\n",
       "      <td>248</td>\n",
       "      <td>1000</td>\n",
       "      <td>6</td>\n",
       "    </tr>\n",
       "    <tr>\n",
       "      <th>top</th>\n",
       "      <td>KR</td>\n",
       "      <td>KR</td>\n",
       "      <td>Montserrat</td>\n",
       "      <td>es</td>\n",
       "    </tr>\n",
       "    <tr>\n",
       "      <th>freq</th>\n",
       "      <td>6</td>\n",
       "      <td>6</td>\n",
       "      <td>6</td>\n",
       "      <td>251</td>\n",
       "    </tr>\n",
       "  </tbody>\n",
       "</table>\n",
       "</div>"
      ],
      "text/plain": [
       "       euCode isoCode        name language\n",
       "count    1497    1485        1503     1503\n",
       "unique    250     248        1000        6\n",
       "top        KR      KR  Montserrat       es\n",
       "freq        6       6           6      251"
      ]
     },
     "execution_count": 7,
     "metadata": {},
     "output_type": "execute_result"
    }
   ],
   "source": [
    "df.describe()"
   ]
  },
  {
   "cell_type": "markdown",
   "metadata": {},
   "source": [
    "### Plotting"
   ]
  },
  {
   "cell_type": "code",
   "execution_count": 8,
   "metadata": {},
   "outputs": [
    {
     "data": {
      "text/plain": [
       "<matplotlib.axes._subplots.AxesSubplot at 0x7f602b15b220>"
      ]
     },
     "execution_count": 8,
     "metadata": {},
     "output_type": "execute_result"
    },
    {
     "data": {
      "image/png": "[encoded data removed]",
      "text/plain": [
       "<Figure size 432x288 with 1 Axes>"
      ]
     },
     "metadata": {},
     "output_type": "display_data"
    }
   ],
   "source": [
    "df['language'].value_counts().plot.pie()"
   ]
  },
  {
   "cell_type": "code",
   "execution_count": 37,
   "metadata": {},
   "outputs": [],
   "source": [
    "df2 = pd.read_csv('../data/cordis-h2020projects.csv', delimiter=';')"
   ]
  },
  {
   "cell_type": "code",
   "execution_count": 48,
   "metadata": {},
   "outputs": [
    {
     "data": {
      "text/html": [
       "<div>\n",
       "<style scoped>\n",
       "    .dataframe tbody tr th:only-of-type {\n",
       "        vertical-align: middle;\n",
       "    }\n",
       "\n",
       "    .dataframe tbody tr th {\n",
       "        vertical-align: top;\n",
       "    }\n",
       "\n",
       "    .dataframe thead th {\n",
       "        text-align: right;\n",
       "    }\n",
       "</style>\n",
       "<table border=\"1\" class=\"dataframe\">\n",
       "  <thead>\n",
       "    <tr style=\"text-align: right;\">\n",
       "      <th></th>\n",
       "      <th>rcn</th>\n",
       "      <th>id</th>\n",
       "      <th>acronym</th>\n",
       "      <th>status</th>\n",
       "      <th>programme</th>\n",
       "      <th>topics</th>\n",
       "      <th>frameworkProgramme</th>\n",
       "      <th>title</th>\n",
       "      <th>startDate</th>\n",
       "      <th>endDate</th>\n",
       "      <th>...</th>\n",
       "      <th>totalCost</th>\n",
       "      <th>ecMaxContribution</th>\n",
       "      <th>call</th>\n",
       "      <th>fundingScheme</th>\n",
       "      <th>coordinator</th>\n",
       "      <th>coordinatorCountry</th>\n",
       "      <th>participants</th>\n",
       "      <th>participantCountries</th>\n",
       "      <th>subjects</th>\n",
       "      <th>totalCostFloat</th>\n",
       "    </tr>\n",
       "  </thead>\n",
       "  <tbody>\n",
       "    <tr>\n",
       "      <th>0</th>\n",
       "      <td>224812</td>\n",
       "      <td>861198</td>\n",
       "      <td>LISA</td>\n",
       "      <td>SIGNED</td>\n",
       "      <td>H2020-EU.1.3.1.</td>\n",
       "      <td>MSCA-ITN-2019</td>\n",
       "      <td>H2020</td>\n",
       "      <td>Laser Ionization and Spectroscopy of Actinide ...</td>\n",
       "      <td>2019-11-01</td>\n",
       "      <td>2023-10-31</td>\n",
       "      <td>...</td>\n",
       "      <td>3998306,88</td>\n",
       "      <td>3998306,88</td>\n",
       "      <td>H2020-MSCA-ITN-2019</td>\n",
       "      <td>MSCA-ITN-ETN</td>\n",
       "      <td>EUROPEAN ORGANIZATION FOR NUCLEAR RESEARCH</td>\n",
       "      <td>CH</td>\n",
       "      <td>JOHANNES GUTENBERG-UNIVERSITAT MAINZ;M-SQUARED...</td>\n",
       "      <td>DE;UK;FI;NL;FR;BE;SE</td>\n",
       "      <td>NaN</td>\n",
       "      <td>3998306.88</td>\n",
       "    </tr>\n",
       "    <tr>\n",
       "      <th>1</th>\n",
       "      <td>223215</td>\n",
       "      <td>817683</td>\n",
       "      <td>FOX</td>\n",
       "      <td>SIGNED</td>\n",
       "      <td>H2020-EU.3.2.2.3.;H2020-EU.3.2.2.2.</td>\n",
       "      <td>SFS-16-2018</td>\n",
       "      <td>H2020</td>\n",
       "      <td>Innovative down-scaled FOod processing in a boX</td>\n",
       "      <td>2019-06-01</td>\n",
       "      <td>2023-11-30</td>\n",
       "      <td>...</td>\n",
       "      <td>7065223,75</td>\n",
       "      <td>7065223,75</td>\n",
       "      <td>H2020-SFS-2018-2</td>\n",
       "      <td>RIA</td>\n",
       "      <td>DEUTSCHES INSTITUT FUER LEBENSMITTELTECHNIK</td>\n",
       "      <td>DE</td>\n",
       "      <td>HUTTEN CATERING B.V.;AARHUS UNIVERSITET;INSTIT...</td>\n",
       "      <td>NL;DK;SI;CZ;PL;DE;FR;ES;BE</td>\n",
       "      <td>NaN</td>\n",
       "      <td>7065223.75</td>\n",
       "    </tr>\n",
       "    <tr>\n",
       "      <th>2</th>\n",
       "      <td>223203</td>\n",
       "      <td>812777</td>\n",
       "      <td>CHICKENSTRESS</td>\n",
       "      <td>SIGNED</td>\n",
       "      <td>H2020-EU.1.3.1.</td>\n",
       "      <td>MSCA-ITN-2018</td>\n",
       "      <td>H2020</td>\n",
       "      <td>Variations in stress responsivity in hens: mat...</td>\n",
       "      <td>2019-05-01</td>\n",
       "      <td>2023-04-30</td>\n",
       "      <td>...</td>\n",
       "      <td>3873244,68</td>\n",
       "      <td>3873244,68</td>\n",
       "      <td>H2020-MSCA-ITN-2018</td>\n",
       "      <td>MSCA-ITN-ETN</td>\n",
       "      <td>UNIVERSITY OF NEWCASTLE UPON TYNE</td>\n",
       "      <td>UK</td>\n",
       "      <td>HENDRIX GENETICS RESEARCH,TECHNOLOGY &amp; SERVICE...</td>\n",
       "      <td>NL;IE;CH;UK;BE;ES;NO;IL</td>\n",
       "      <td>NaN</td>\n",
       "      <td>3873244.68</td>\n",
       "    </tr>\n",
       "    <tr>\n",
       "      <th>3</th>\n",
       "      <td>224146</td>\n",
       "      <td>819353</td>\n",
       "      <td>SlaveVoices</td>\n",
       "      <td>SIGNED</td>\n",
       "      <td>H2020-EU.1.1.</td>\n",
       "      <td>ERC-2018-COG</td>\n",
       "      <td>H2020</td>\n",
       "      <td>Slave Testimonies in the Abolition Era. Europe...</td>\n",
       "      <td>2019-10-01</td>\n",
       "      <td>2024-09-30</td>\n",
       "      <td>...</td>\n",
       "      <td>1999975</td>\n",
       "      <td>1999975</td>\n",
       "      <td>ERC-2018-COG</td>\n",
       "      <td>ERC-COG</td>\n",
       "      <td>FONDATION NATIONALE DES SCIENCES POLITIQUES</td>\n",
       "      <td>FR</td>\n",
       "      <td>NaN</td>\n",
       "      <td>NaN</td>\n",
       "      <td>NaN</td>\n",
       "      <td>1999975.00</td>\n",
       "    </tr>\n",
       "    <tr>\n",
       "      <th>4</th>\n",
       "      <td>223810</td>\n",
       "      <td>814888</td>\n",
       "      <td>TRI-HP</td>\n",
       "      <td>SIGNED</td>\n",
       "      <td>H2020-EU.3.3.2.</td>\n",
       "      <td>LC-SC3-RES-4-2018</td>\n",
       "      <td>H2020</td>\n",
       "      <td>Trigeneration systems based on heat pumps with...</td>\n",
       "      <td>2019-03-01</td>\n",
       "      <td>2023-02-28</td>\n",
       "      <td>...</td>\n",
       "      <td>4993080</td>\n",
       "      <td>4993080</td>\n",
       "      <td>H2020-LC-SC3-2018-RES-TwoStages</td>\n",
       "      <td>RIA</td>\n",
       "      <td>HSR HOCHSCHULE FUR TECHNIK RAPPERSWIL</td>\n",
       "      <td>CH</td>\n",
       "      <td>INDUSTRIELACK AG;FUNDACION TECNALIA RESEARCH &amp;...</td>\n",
       "      <td>CH;ES;DK;DE;SE;NO;NL</td>\n",
       "      <td>NaN</td>\n",
       "      <td>4993080.00</td>\n",
       "    </tr>\n",
       "  </tbody>\n",
       "</table>\n",
       "<p>5 rows × 22 columns</p>\n",
       "</div>"
      ],
      "text/plain": [
       "      rcn      id        acronym  status                            programme  \\\n",
       "0  224812  861198           LISA  SIGNED                      H2020-EU.1.3.1.   \n",
       "1  223215  817683            FOX  SIGNED  H2020-EU.3.2.2.3.;H2020-EU.3.2.2.2.   \n",
       "2  223203  812777  CHICKENSTRESS  SIGNED                      H2020-EU.1.3.1.   \n",
       "3  224146  819353    SlaveVoices  SIGNED                        H2020-EU.1.1.   \n",
       "4  223810  814888         TRI-HP  SIGNED                      H2020-EU.3.3.2.   \n",
       "\n",
       "              topics frameworkProgramme  \\\n",
       "0      MSCA-ITN-2019              H2020   \n",
       "1        SFS-16-2018              H2020   \n",
       "2      MSCA-ITN-2018              H2020   \n",
       "3       ERC-2018-COG              H2020   \n",
       "4  LC-SC3-RES-4-2018              H2020   \n",
       "\n",
       "                                               title   startDate     endDate  \\\n",
       "0  Laser Ionization and Spectroscopy of Actinide ...  2019-11-01  2023-10-31   \n",
       "1    Innovative down-scaled FOod processing in a boX  2019-06-01  2023-11-30   \n",
       "2  Variations in stress responsivity in hens: mat...  2019-05-01  2023-04-30   \n",
       "3  Slave Testimonies in the Abolition Era. Europe...  2019-10-01  2024-09-30   \n",
       "4  Trigeneration systems based on heat pumps with...  2019-03-01  2023-02-28   \n",
       "\n",
       "   ...   totalCost ecMaxContribution                             call  \\\n",
       "0  ...  3998306,88        3998306,88              H2020-MSCA-ITN-2019   \n",
       "1  ...  7065223,75        7065223,75                 H2020-SFS-2018-2   \n",
       "2  ...  3873244,68        3873244,68              H2020-MSCA-ITN-2018   \n",
       "3  ...     1999975           1999975                     ERC-2018-COG   \n",
       "4  ...     4993080           4993080  H2020-LC-SC3-2018-RES-TwoStages   \n",
       "\n",
       "  fundingScheme                                  coordinator  \\\n",
       "0  MSCA-ITN-ETN   EUROPEAN ORGANIZATION FOR NUCLEAR RESEARCH   \n",
       "1           RIA  DEUTSCHES INSTITUT FUER LEBENSMITTELTECHNIK   \n",
       "2  MSCA-ITN-ETN            UNIVERSITY OF NEWCASTLE UPON TYNE   \n",
       "3       ERC-COG  FONDATION NATIONALE DES SCIENCES POLITIQUES   \n",
       "4           RIA        HSR HOCHSCHULE FUR TECHNIK RAPPERSWIL   \n",
       "\n",
       "  coordinatorCountry                                       participants  \\\n",
       "0                 CH  JOHANNES GUTENBERG-UNIVERSITAT MAINZ;M-SQUARED...   \n",
       "1                 DE  HUTTEN CATERING B.V.;AARHUS UNIVERSITET;INSTIT...   \n",
       "2                 UK  HENDRIX GENETICS RESEARCH,TECHNOLOGY & SERVICE...   \n",
       "3                 FR                                                NaN   \n",
       "4                 CH  INDUSTRIELACK AG;FUNDACION TECNALIA RESEARCH &...   \n",
       "\n",
       "         participantCountries subjects totalCostFloat  \n",
       "0        DE;UK;FI;NL;FR;BE;SE      NaN     3998306.88  \n",
       "1  NL;DK;SI;CZ;PL;DE;FR;ES;BE      NaN     7065223.75  \n",
       "2     NL;IE;CH;UK;BE;ES;NO;IL      NaN     3873244.68  \n",
       "3                         NaN      NaN     1999975.00  \n",
       "4        CH;ES;DK;DE;SE;NO;NL      NaN     4993080.00  \n",
       "\n",
       "[5 rows x 22 columns]"
      ]
     },
     "execution_count": 48,
     "metadata": {},
     "output_type": "execute_result"
    }
   ],
   "source": [
    "df2.head()"
   ]
  },
  {
   "cell_type": "code",
   "execution_count": 38,
   "metadata": {},
   "outputs": [
    {
     "data": {
      "text/plain": [
       "0        3998306,88\n",
       "1        7065223,75\n",
       "2        3873244,68\n",
       "3           1999975\n",
       "4           4993080\n",
       "            ...    \n",
       "25357       3157986\n",
       "25358       2422698\n",
       "25359       1998125\n",
       "25360        150000\n",
       "25361       3929375\n",
       "Name: totalCost, Length: 25362, dtype: object"
      ]
     },
     "execution_count": 38,
     "metadata": {},
     "output_type": "execute_result"
    }
   ],
   "source": [
    "df2['totalCost']"
   ]
  },
  {
   "cell_type": "code",
   "execution_count": 39,
   "metadata": {},
   "outputs": [],
   "source": [
    "df2['totalCostFloat'] = df2['totalCost'].str.replace(',','.').astype('float64')"
   ]
  },
  {
   "cell_type": "code",
   "execution_count": 47,
   "metadata": {},
   "outputs": [
    {
     "data": {
      "text/plain": [
       "<matplotlib.axes._subplots.AxesSubplot at 0x7f60230545b0>"
      ]
     },
     "execution_count": 47,
     "metadata": {},
     "output_type": "execute_result"
    },
    {
     "data": {
      "image/png": "[encoded data removed]",
      "text/plain": [
       "<Figure size 432x288 with 1 Axes>"
      ]
     },
     "metadata": {
      "needs_background": "light"
     },
     "output_type": "display_data"
    }
   ],
   "source": [
    "df2[df2['totalCostFloat'] < 10000000]['totalCostFloat'].hist(bins=11)"
   ]
  }
 ],
 "metadata": {
  "kernelspec": {
   "display_name": "Python 3",
   "language": "python",
   "name": "python3"
  },
  "language_info": {
   "codemirror_mode": {
    "name": "ipython",
    "version": 3
   },
   "file_extension": ".py",
   "mimetype": "text/x-python",
   "name": "python",
   "nbconvert_exporter": "python",
   "pygments_lexer": "ipython3",
   "version": "3.8.0"
  }
 },
 "nbformat": 4,
 "nbformat_minor": 4
}
